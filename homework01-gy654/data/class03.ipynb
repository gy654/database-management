{
 "cells": [
  {
   "cell_type": "code",
   "execution_count": 1,
   "id": "88b27482-a8b8-404f-9a1d-69d460c18401",
   "metadata": {},
   "outputs": [],
   "source": [
    "class Foo:\n",
    "     pass"
   ]
  },
  {
   "cell_type": "code",
   "execution_count": 2,
   "id": "59912f54-9c29-4ddc-b459-6ea6da02d4cb",
   "metadata": {},
   "outputs": [],
   "source": [
    "f = Foo()"
   ]
  },
  {
   "cell_type": "code",
   "execution_count": 3,
   "id": "523b7c46-312a-40c1-813f-0df578a997d0",
   "metadata": {},
   "outputs": [
    {
     "data": {
      "text/plain": [
       "<__main__.Foo at 0x10ebf3100>"
      ]
     },
     "execution_count": 3,
     "metadata": {},
     "output_type": "execute_result"
    }
   ],
   "source": [
    "f"
   ]
  },
  {
   "cell_type": "code",
   "execution_count": 4,
   "id": "54887f74-8e5e-48c9-85b0-2d12c7eafe4f",
   "metadata": {},
   "outputs": [
    {
     "data": {
      "text/plain": [
       "__main__.Foo"
      ]
     },
     "execution_count": 4,
     "metadata": {},
     "output_type": "execute_result"
    }
   ],
   "source": [
    "type(f)"
   ]
  },
  {
   "cell_type": "code",
   "execution_count": 32,
   "id": "f56ff6a7-c4df-4ed9-bb1f-d9d6d11856f1",
   "metadata": {},
   "outputs": [],
   "source": [
    "from dataclasses import dataclass\n",
    "\n",
    "@dataclass\n",
    "class Person:\n",
    "    # these will not be static member variables, but instead, instance\n",
    "    # because of @dataclass\n",
    "    first: str # <--- set default values here too, validation at this point (?)\n",
    "    last: str\n",
    "    age: int\n",
    "    \n",
    "    def greet(self, greeting):\n",
    "        print(f'{self.first} says {greeting}')\n",
    "        \n",
    "    def __str__(self):\n",
    "        return f'{self.first} {self.last}'"
   ]
  },
  {
   "cell_type": "code",
   "execution_count": 33,
   "id": "fb6e6a45-e5e2-4320-ab8d-8b8808924b50",
   "metadata": {},
   "outputs": [],
   "source": [
    "bill = Person('bill', 'cypher', 10000000)"
   ]
  },
  {
   "cell_type": "code",
   "execution_count": 34,
   "id": "63c6f458-d5b6-4780-9ef7-351e22ba9284",
   "metadata": {},
   "outputs": [
    {
     "data": {
      "text/plain": [
       "'bill'"
      ]
     },
     "execution_count": 34,
     "metadata": {},
     "output_type": "execute_result"
    }
   ],
   "source": [
    "bill.first"
   ]
  },
  {
   "cell_type": "code",
   "execution_count": 35,
   "id": "02c25f4a-83fb-4c06-8880-b9e89aadca7a",
   "metadata": {},
   "outputs": [
    {
     "data": {
      "text/plain": [
       "'cypher'"
      ]
     },
     "execution_count": 35,
     "metadata": {},
     "output_type": "execute_result"
    }
   ],
   "source": [
    "bill.last"
   ]
  },
  {
   "cell_type": "code",
   "execution_count": 36,
   "id": "b8529701-7c66-4c6f-a52e-32ace3f5983e",
   "metadata": {},
   "outputs": [
    {
     "name": "stdout",
     "output_type": "stream",
     "text": [
      "bill cypher\n"
     ]
    }
   ],
   "source": [
    "# without defining __str__ or __repr__\n",
    "print(bill)"
   ]
  },
  {
   "cell_type": "code",
   "execution_count": 37,
   "id": "fa6590ad-73ab-413c-8ef1-ed4b290430b6",
   "metadata": {},
   "outputs": [
    {
     "name": "stdout",
     "output_type": "stream",
     "text": [
      "bill says hello\n"
     ]
    }
   ],
   "source": [
    "bill.greet('hello')"
   ]
  },
  {
   "cell_type": "code",
   "execution_count": 38,
   "id": "e5f9747a-990b-4295-ba3b-c5aee71fb893",
   "metadata": {},
   "outputs": [
    {
     "name": "stdout",
     "output_type": "stream",
     "text": [
      "bill cypher\n"
     ]
    }
   ],
   "source": [
    "print(bill)"
   ]
  },
  {
   "cell_type": "code",
   "execution_count": 39,
   "id": "5fd72f07-3019-4812-aa71-8ad97524c561",
   "metadata": {},
   "outputs": [],
   "source": [
    "class Foo:\n",
    "    def __getitem__(self, k):\n",
    "        return k"
   ]
  },
  {
   "cell_type": "code",
   "execution_count": 40,
   "id": "30e02e84-dc8c-48b8-8d23-97d13084cca3",
   "metadata": {},
   "outputs": [
    {
     "data": {
      "text/plain": [
       "4"
      ]
     },
     "execution_count": 40,
     "metadata": {},
     "output_type": "execute_result"
    }
   ],
   "source": [
    "f = Foo()\n",
    "f[4]"
   ]
  },
  {
   "cell_type": "code",
   "execution_count": 41,
   "id": "bd4596e3-662f-4286-95d7-870a3e32b158",
   "metadata": {},
   "outputs": [],
   "source": [
    "class Foo:\n",
    "    def __getitem__(self, k):\n",
    "        a, b = k # assume we have 2 elements in k\n",
    "        return a * b"
   ]
  },
  {
   "cell_type": "code",
   "execution_count": 42,
   "id": "f44af1f9-d4ac-40fc-977c-1b6e24a785cb",
   "metadata": {},
   "outputs": [],
   "source": [
    "f = Foo()"
   ]
  },
  {
   "cell_type": "code",
   "execution_count": 43,
   "id": "b73c3cf3-b407-4101-87db-11047372afa2",
   "metadata": {},
   "outputs": [
    {
     "data": {
      "text/plain": [
       "6"
      ]
     },
     "execution_count": 43,
     "metadata": {},
     "output_type": "execute_result"
    }
   ],
   "source": [
    "f[(2, 3)]"
   ]
  },
  {
   "cell_type": "code",
   "execution_count": 44,
   "id": "08be0ac6-fe0b-42ef-8a4e-5ce170bf235a",
   "metadata": {},
   "outputs": [
    {
     "data": {
      "text/plain": [
       "6"
      ]
     },
     "execution_count": 44,
     "metadata": {},
     "output_type": "execute_result"
    }
   ],
   "source": [
    "f[2, 3]"
   ]
  },
  {
   "cell_type": "code",
   "execution_count": 45,
   "id": "b5bfec90-b4da-4e1b-9235-a81dddab5917",
   "metadata": {},
   "outputs": [],
   "source": [
    "chars = ['bill', 'stan', 'mabel']"
   ]
  },
  {
   "cell_type": "code",
   "execution_count": 46,
   "id": "3a55cbd9-7a30-41f1-af51-e931b7bfe0d1",
   "metadata": {},
   "outputs": [],
   "source": [
    "i = iter(chars)"
   ]
  },
  {
   "cell_type": "code",
   "execution_count": 47,
   "id": "0c7c69d2-8f5a-482c-8bd8-f0399d522232",
   "metadata": {},
   "outputs": [
    {
     "data": {
      "text/plain": [
       "'bill'"
      ]
     },
     "execution_count": 47,
     "metadata": {},
     "output_type": "execute_result"
    }
   ],
   "source": [
    "next(i)"
   ]
  },
  {
   "cell_type": "code",
   "execution_count": 48,
   "id": "3de81658-e30d-4d1b-9356-a1a45f51c1b7",
   "metadata": {},
   "outputs": [
    {
     "data": {
      "text/plain": [
       "'stan'"
      ]
     },
     "execution_count": 48,
     "metadata": {},
     "output_type": "execute_result"
    }
   ],
   "source": [
    "next(i)"
   ]
  },
  {
   "cell_type": "code",
   "execution_count": 49,
   "id": "03f164fa-c76b-458d-9baa-3179cd1310a0",
   "metadata": {},
   "outputs": [
    {
     "data": {
      "text/plain": [
       "'mabel'"
      ]
     },
     "execution_count": 49,
     "metadata": {},
     "output_type": "execute_result"
    }
   ],
   "source": [
    "next(i)"
   ]
  },
  {
   "cell_type": "code",
   "execution_count": 50,
   "id": "b8cdd1ab-8a3b-4aba-9e63-57e22c4f9cf3",
   "metadata": {},
   "outputs": [
    {
     "ename": "StopIteration",
     "evalue": "",
     "output_type": "error",
     "traceback": [
      "\u001b[0;31m---------------------------------------------------------------------------\u001b[0m",
      "\u001b[0;31mStopIteration\u001b[0m                             Traceback (most recent call last)",
      "Input \u001b[0;32mIn [50]\u001b[0m, in \u001b[0;36m<module>\u001b[0;34m\u001b[0m\n\u001b[0;32m----> 1\u001b[0m \u001b[38;5;28;43mnext\u001b[39;49m\u001b[43m(\u001b[49m\u001b[43mi\u001b[49m\u001b[43m)\u001b[49m\n",
      "\u001b[0;31mStopIteration\u001b[0m: "
     ]
    }
   ],
   "source": [
    "next(i)"
   ]
  },
  {
   "cell_type": "markdown",
   "id": "753ddd6f-144c-4a5d-a1a1-3c373973349e",
   "metadata": {},
   "source": [
    "# iterators\n",
    "\n",
    "* `iter` -- calls `__iter__` on the object that is passed in \n",
    "* `next` -- calls `__next__` on the object passed in"
   ]
  },
  {
   "cell_type": "code",
   "execution_count": 52,
   "id": "4a488c7e-4af9-482d-a888-c0624657ccd7",
   "metadata": {},
   "outputs": [],
   "source": [
    "dir(chars)\n",
    "i = iter(chars)"
   ]
  },
  {
   "cell_type": "code",
   "execution_count": 53,
   "id": "596ca9e1-4639-4f2c-a9e1-cc12d6e450b9",
   "metadata": {},
   "outputs": [
    {
     "data": {
      "text/plain": [
       "['__class__',\n",
       " '__delattr__',\n",
       " '__dir__',\n",
       " '__doc__',\n",
       " '__eq__',\n",
       " '__format__',\n",
       " '__ge__',\n",
       " '__getattribute__',\n",
       " '__gt__',\n",
       " '__hash__',\n",
       " '__init__',\n",
       " '__init_subclass__',\n",
       " '__iter__',\n",
       " '__le__',\n",
       " '__length_hint__',\n",
       " '__lt__',\n",
       " '__ne__',\n",
       " '__new__',\n",
       " '__next__',\n",
       " '__reduce__',\n",
       " '__reduce_ex__',\n",
       " '__repr__',\n",
       " '__setattr__',\n",
       " '__setstate__',\n",
       " '__sizeof__',\n",
       " '__str__',\n",
       " '__subclasshook__']"
      ]
     },
     "execution_count": 53,
     "metadata": {},
     "output_type": "execute_result"
    }
   ],
   "source": [
    "dir(i)"
   ]
  },
  {
   "cell_type": "markdown",
   "id": "c7b2f584-812a-4e89-9dfd-4dc779765e9b",
   "metadata": {},
   "source": [
    "like range\n",
    "but for uppercase letters\n",
    "\n",
    "\n",
    "```\n",
    "lr = LetterRange('D')\n",
    "for letter in lr:\n",
    "  print(letter)\n",
    "A\n",
    "B\n",
    "C\n",
    "```"
   ]
  },
  {
   "cell_type": "code",
   "execution_count": 76,
   "id": "1e6de0e0-a9e4-4565-9bd0-05119ffccb6f",
   "metadata": {},
   "outputs": [],
   "source": [
    "class LetterRange:\n",
    "    def __init__(self, end):\n",
    "        self.end = ord(end)\n",
    "        self.cur = ord('A')\n",
    "        \n",
    "    def __iter__(self):\n",
    "        # return something that implements __next__\n",
    "        return self # as long as we implement __next__ here too!\n",
    "        # okay to return other object as long as __next__ is defined there!!!!!\n",
    "    \n",
    "    def __next__(self):\n",
    "        ret = self.cur\n",
    "        if self.cur == self.end:\n",
    "            raise StopIteration()\n",
    "        self.cur += 1\n",
    "        return chr(ret)"
   ]
  },
  {
   "cell_type": "code",
   "execution_count": 82,
   "id": "e8f33406-055b-4048-b9d6-a63f73092a45",
   "metadata": {},
   "outputs": [],
   "source": [
    "lr = LetterRange('D')"
   ]
  },
  {
   "cell_type": "code",
   "execution_count": 83,
   "id": "ccf08970-b106-4fa0-998d-d5712e2c7310",
   "metadata": {},
   "outputs": [],
   "source": [
    "i = iter(lr)"
   ]
  },
  {
   "cell_type": "code",
   "execution_count": 84,
   "id": "4a6f2ba3-215a-4ff7-8f92-3241f0a2177f",
   "metadata": {},
   "outputs": [
    {
     "data": {
      "text/plain": [
       "'A'"
      ]
     },
     "execution_count": 84,
     "metadata": {},
     "output_type": "execute_result"
    }
   ],
   "source": [
    "next(i)"
   ]
  },
  {
   "cell_type": "code",
   "execution_count": 85,
   "id": "20c09093-7b28-4d69-8026-7197c021bb08",
   "metadata": {},
   "outputs": [
    {
     "data": {
      "text/plain": [
       "'B'"
      ]
     },
     "execution_count": 85,
     "metadata": {},
     "output_type": "execute_result"
    }
   ],
   "source": [
    "next(i)"
   ]
  },
  {
   "cell_type": "code",
   "execution_count": 86,
   "id": "612ad3c7-015c-4339-bcbd-9927e7fdccbf",
   "metadata": {},
   "outputs": [
    {
     "data": {
      "text/plain": [
       "'C'"
      ]
     },
     "execution_count": 86,
     "metadata": {},
     "output_type": "execute_result"
    }
   ],
   "source": [
    "next(i)"
   ]
  },
  {
   "cell_type": "code",
   "execution_count": 89,
   "id": "3a9288ce-dd3c-4ebe-8324-b3a5b997a171",
   "metadata": {},
   "outputs": [
    {
     "data": {
      "text/plain": [
       "\"\\nwith open('./data/starbucks_drinkMenu_expanded.csv', 'r') as f:\\n    for line in f:\\n        print(line)\\n    print('DONE 1')\\n    for line in f:\\n        print(line)\\n\""
      ]
     },
     "execution_count": 89,
     "metadata": {},
     "output_type": "execute_result"
    }
   ],
   "source": [
    "'''\n",
    "with open('./data/starbucks_drinkMenu_expanded.csv', 'r') as f:\n",
    "    for line in f:\n",
    "        print(line)\n",
    "    print('DONE 1')\n",
    "    for line in f:\n",
    "        print(line)\n",
    "'''"
   ]
  },
  {
   "cell_type": "code",
   "execution_count": 90,
   "id": "7e31fa5a-365b-4e47-a4a0-f9f7d2bb920b",
   "metadata": {},
   "outputs": [],
   "source": [
    "i = iter(LetterRange('D'))"
   ]
  },
  {
   "cell_type": "code",
   "execution_count": 91,
   "id": "372949f0-b06b-4fd6-aec5-0f51cb3b8442",
   "metadata": {},
   "outputs": [
    {
     "data": {
      "text/plain": [
       "['__class__',\n",
       " '__delattr__',\n",
       " '__dict__',\n",
       " '__dir__',\n",
       " '__doc__',\n",
       " '__eq__',\n",
       " '__format__',\n",
       " '__ge__',\n",
       " '__getattribute__',\n",
       " '__gt__',\n",
       " '__hash__',\n",
       " '__init__',\n",
       " '__init_subclass__',\n",
       " '__iter__',\n",
       " '__le__',\n",
       " '__lt__',\n",
       " '__module__',\n",
       " '__ne__',\n",
       " '__new__',\n",
       " '__next__',\n",
       " '__reduce__',\n",
       " '__reduce_ex__',\n",
       " '__repr__',\n",
       " '__setattr__',\n",
       " '__sizeof__',\n",
       " '__str__',\n",
       " '__subclasshook__',\n",
       " '__weakref__',\n",
       " 'cur',\n",
       " 'end']"
      ]
     },
     "execution_count": 91,
     "metadata": {},
     "output_type": "execute_result"
    }
   ],
   "source": [
    "dir(i)"
   ]
  },
  {
   "cell_type": "markdown",
   "id": "79a145de-c671-4811-ab3e-49c315c8e8ce",
   "metadata": {},
   "source": [
    "double underscore methods\n",
    "\n",
    "* __init__: constructor\n",
    "* __str__: when converted to string (str(), print())\n",
    "* __repr__: enough info to reconsitute object (as a string)... used ineractive shell or notebook when u don't print but just have value\n",
    "* __lt__, __gt__, __gte__, __eq__:  comparison ops\n",
    "* __mult__, etc.: *, +, -\n",
    "* __getitem__, __setitme__: []\n",
    "* __iter__, __next__\n",
    "\n"
   ]
  },
  {
   "cell_type": "code",
   "execution_count": 92,
   "id": "5100f5b9-cca2-46b1-a6f2-569103575a7b",
   "metadata": {},
   "outputs": [
    {
     "data": {
      "text/plain": [
       "['bill', 'stan', 'mabel']"
      ]
     },
     "execution_count": 92,
     "metadata": {},
     "output_type": "execute_result"
    }
   ],
   "source": [
    "chars"
   ]
  },
  {
   "cell_type": "code",
   "execution_count": 93,
   "id": "94ac316c-8fdd-4dd0-bc62-a83a3906d60b",
   "metadata": {},
   "outputs": [
    {
     "data": {
      "text/plain": [
       "['BILL', 'STAN', 'MABEL']"
      ]
     },
     "execution_count": 93,
     "metadata": {},
     "output_type": "execute_result"
    }
   ],
   "source": [
    "[name.upper() for name in chars]"
   ]
  },
  {
   "cell_type": "code",
   "execution_count": 94,
   "id": "a6c437b0-ebda-4fee-9927-7f510aea8108",
   "metadata": {},
   "outputs": [
    {
     "data": {
      "text/plain": [
       "['BILL', 'STAN']"
      ]
     },
     "execution_count": 94,
     "metadata": {},
     "output_type": "execute_result"
    }
   ],
   "source": [
    "[name.upper() for name in chars if len(name) == 4]"
   ]
  },
  {
   "cell_type": "code",
   "execution_count": 95,
   "id": "9e6c4b13-1f13-48b7-ab44-134aad7ad385",
   "metadata": {},
   "outputs": [
    {
     "data": {
      "text/plain": [
       "['BILL', 'STAN', 'mabel']"
      ]
     },
     "execution_count": 95,
     "metadata": {},
     "output_type": "execute_result"
    }
   ],
   "source": [
    "[name.upper() if len(name) == 4 else name for name in chars]"
   ]
  },
  {
   "cell_type": "markdown",
   "id": "83bed289-2999-46c4-bf1a-5015e00b9a0b",
   "metadata": {},
   "source": [
    "# set\n",
    "\n",
    "* mutable\n",
    "* unordered\n",
    "* items are unique"
   ]
  },
  {
   "cell_type": "code",
   "execution_count": 96,
   "id": "404ce601-ef5d-4d9b-b778-5f6050de4bf8",
   "metadata": {},
   "outputs": [],
   "source": [
    "s1 = {1, 2, 3}"
   ]
  },
  {
   "cell_type": "code",
   "execution_count": 97,
   "id": "725c7bd5-6903-4a47-89bf-f6e90371120d",
   "metadata": {},
   "outputs": [
    {
     "data": {
      "text/plain": [
       "set"
      ]
     },
     "execution_count": 97,
     "metadata": {},
     "output_type": "execute_result"
    }
   ],
   "source": [
    "type(s1)"
   ]
  },
  {
   "cell_type": "code",
   "execution_count": 99,
   "id": "1a27819e-87b9-4af1-8e2f-612a9c18aace",
   "metadata": {},
   "outputs": [],
   "source": [
    "s2 = set([3, 4, 5])"
   ]
  },
  {
   "cell_type": "code",
   "execution_count": 100,
   "id": "49a94e2c-1707-43ac-ab6f-8c9230f683b8",
   "metadata": {},
   "outputs": [
    {
     "data": {
      "text/plain": [
       "{1, 2, 3, 4, 5}"
      ]
     },
     "execution_count": 100,
     "metadata": {},
     "output_type": "execute_result"
    }
   ],
   "source": [
    "s1.union(s2)"
   ]
  },
  {
   "cell_type": "code",
   "execution_count": 103,
   "id": "595e4679-0329-47a1-97fa-85dc6370a7b9",
   "metadata": {},
   "outputs": [
    {
     "data": {
      "text/plain": [
       "{1, 2, 3, 4, 5}"
      ]
     },
     "execution_count": 103,
     "metadata": {},
     "output_type": "execute_result"
    }
   ],
   "source": [
    "s1 | s2"
   ]
  },
  {
   "cell_type": "code",
   "execution_count": 104,
   "id": "5ce28774-4f17-48ec-8df5-37dd141bc0b3",
   "metadata": {},
   "outputs": [],
   "source": [
    "s3 = set([1, 1, 1, 1, 1, 1, 2, 1, 1])"
   ]
  },
  {
   "cell_type": "code",
   "execution_count": 105,
   "id": "ffe2bdbe-89f8-447a-be16-645fa3d5a107",
   "metadata": {},
   "outputs": [
    {
     "data": {
      "text/plain": [
       "{1, 2}"
      ]
     },
     "execution_count": 105,
     "metadata": {},
     "output_type": "execute_result"
    }
   ],
   "source": [
    "s3"
   ]
  },
  {
   "cell_type": "code",
   "execution_count": 106,
   "id": "f35a68bf-c263-476a-92b2-6dea880a78a2",
   "metadata": {},
   "outputs": [
    {
     "data": {
      "text/plain": [
       "set()"
      ]
     },
     "execution_count": 106,
     "metadata": {},
     "output_type": "execute_result"
    }
   ],
   "source": [
    "\n",
    "{} # not an empty set!? ... dict\n",
    "set()"
   ]
  },
  {
   "cell_type": "code",
   "execution_count": 107,
   "id": "602ac434-4f40-4e08-a409-8c4fa534eb30",
   "metadata": {},
   "outputs": [
    {
     "data": {
      "text/plain": [
       "{'a', 'b', 'n'}"
      ]
     },
     "execution_count": 107,
     "metadata": {},
     "output_type": "execute_result"
    }
   ],
   "source": [
    "{ele for ele in 'banana'}"
   ]
  },
  {
   "cell_type": "code",
   "execution_count": 109,
   "id": "f97f9141-ebcf-47a1-a37a-d525517301ac",
   "metadata": {},
   "outputs": [
    {
     "data": {
      "text/plain": [
       "{'b': 1, 'a': 3, 'n': 2}"
      ]
     },
     "execution_count": 109,
     "metadata": {},
     "output_type": "execute_result"
    }
   ],
   "source": [
    "# dict comp\n",
    "s = 'banana'\n",
    "{letter: s.count(letter) for letter in s}\n",
    "\n"
   ]
  },
  {
   "cell_type": "code",
   "execution_count": 110,
   "id": "c1e0b80d-ed10-45b7-b5fe-814903274845",
   "metadata": {},
   "outputs": [
    {
     "data": {
      "text/plain": [
       "['bill', 'stan', 'mabel']"
      ]
     },
     "execution_count": 110,
     "metadata": {},
     "output_type": "execute_result"
    }
   ],
   "source": [
    "chars"
   ]
  },
  {
   "cell_type": "code",
   "execution_count": 111,
   "id": "b01054eb-d4e8-452e-aaaf-38026cf36e5a",
   "metadata": {},
   "outputs": [
    {
     "name": "stdout",
     "output_type": "stream",
     "text": [
      "bill\n",
      "stan\n",
      "mabel\n"
     ]
    }
   ],
   "source": [
    "# 1 (range)\n",
    "for i in range(len(chars)):\n",
    "    print(chars[i])"
   ]
  },
  {
   "cell_type": "code",
   "execution_count": 115,
   "id": "715e2843-5e32-4135-bb52-a3ef5bebd6c8",
   "metadata": {},
   "outputs": [
    {
     "name": "stdout",
     "output_type": "stream",
     "text": [
      "bill\n",
      "stan\n",
      "mabel\n"
     ]
    }
   ],
   "source": [
    "# 2 (no range / no index\n",
    "# <--- how do u get the index if you need it?\n",
    "for character in chars:\n",
    "    print(character)"
   ]
  },
  {
   "cell_type": "code",
   "execution_count": 116,
   "id": "2ad6f1ee-f9ed-4592-9bc5-46bad647c9f9",
   "metadata": {},
   "outputs": [
    {
     "name": "stdout",
     "output_type": "stream",
     "text": [
      "(0, 'bill')\n",
      "(1, 'stan')\n",
      "(2, 'mabel')\n"
     ]
    }
   ],
   "source": [
    "for t in enumerate(chars):\n",
    "    print(t)"
   ]
  },
  {
   "cell_type": "code",
   "execution_count": 117,
   "id": "1680e20b-68a3-4bbc-bba5-9042c0ebc602",
   "metadata": {},
   "outputs": [
    {
     "name": "stdout",
     "output_type": "stream",
     "text": [
      "0 bill\n",
      "1 stan\n",
      "2 mabel\n"
     ]
    }
   ],
   "source": [
    "for i, character in enumerate(chars):\n",
    "    print(i, character)"
   ]
  },
  {
   "cell_type": "code",
   "execution_count": 118,
   "id": "c5e8e51b-15fa-469a-8580-45ee7de891ef",
   "metadata": {},
   "outputs": [
    {
     "data": {
      "text/plain": [
       "{'bill': 0, 'stan': 1, 'mabel': 2}"
      ]
     },
     "execution_count": 118,
     "metadata": {},
     "output_type": "execute_result"
    }
   ],
   "source": [
    "{character: i for i, character in enumerate(chars)}"
   ]
  },
  {
   "cell_type": "code",
   "execution_count": 119,
   "id": "62d5427f-6720-4ae5-beeb-54fbce42acc1",
   "metadata": {},
   "outputs": [],
   "source": [
    "# this is a generator\n",
    "# all generators are iterators\n",
    "def f():\n",
    "    print('start')\n",
    "    yield 1\n",
    "    yield 2\n",
    "    print('end')\n",
    "    yield 3"
   ]
  },
  {
   "cell_type": "code",
   "execution_count": 121,
   "id": "75e005b1-5c5a-4b26-86db-1f29e6980706",
   "metadata": {},
   "outputs": [],
   "source": [
    "i = f()"
   ]
  },
  {
   "cell_type": "code",
   "execution_count": 122,
   "id": "998f19a9-3091-4eca-b4bd-d453c372b7ef",
   "metadata": {},
   "outputs": [
    {
     "name": "stdout",
     "output_type": "stream",
     "text": [
      "start\n"
     ]
    },
    {
     "data": {
      "text/plain": [
       "1"
      ]
     },
     "execution_count": 122,
     "metadata": {},
     "output_type": "execute_result"
    }
   ],
   "source": [
    "next(i)"
   ]
  },
  {
   "cell_type": "code",
   "execution_count": 123,
   "id": "b43bc3f9-8fed-4720-9901-ad651d0667ce",
   "metadata": {},
   "outputs": [
    {
     "data": {
      "text/plain": [
       "2"
      ]
     },
     "execution_count": 123,
     "metadata": {},
     "output_type": "execute_result"
    }
   ],
   "source": [
    "next(i)"
   ]
  },
  {
   "cell_type": "code",
   "execution_count": 124,
   "id": "e02f7810-ccba-47f1-99d9-69f3ff9a183a",
   "metadata": {},
   "outputs": [
    {
     "name": "stdout",
     "output_type": "stream",
     "text": [
      "end\n"
     ]
    },
    {
     "data": {
      "text/plain": [
       "3"
      ]
     },
     "execution_count": 124,
     "metadata": {},
     "output_type": "execute_result"
    }
   ],
   "source": [
    "next(i)"
   ]
  },
  {
   "cell_type": "code",
   "execution_count": 125,
   "id": "d18cd7a1-1034-4585-a08d-4e7618c83bf9",
   "metadata": {},
   "outputs": [
    {
     "ename": "StopIteration",
     "evalue": "",
     "output_type": "error",
     "traceback": [
      "\u001b[0;31m---------------------------------------------------------------------------\u001b[0m",
      "\u001b[0;31mStopIteration\u001b[0m                             Traceback (most recent call last)",
      "Input \u001b[0;32mIn [125]\u001b[0m, in \u001b[0;36m<module>\u001b[0;34m\u001b[0m\n\u001b[0;32m----> 1\u001b[0m \u001b[38;5;28;43mnext\u001b[39;49m\u001b[43m(\u001b[49m\u001b[43mi\u001b[49m\u001b[43m)\u001b[49m\n",
      "\u001b[0;31mStopIteration\u001b[0m: "
     ]
    }
   ],
   "source": [
    "next(i)"
   ]
  },
  {
   "cell_type": "code",
   "execution_count": 126,
   "id": "a93c6655-3fff-446e-a551-6401e77c24f0",
   "metadata": {},
   "outputs": [],
   "source": [
    "def letter_range(end):\n",
    "    ord_end = ord(end)\n",
    "    for i in range(ord('A'), ord_end):\n",
    "        yield chr(i)\n",
    "        \n",
    "    "
   ]
  },
  {
   "cell_type": "code",
   "execution_count": 127,
   "id": "1de2bf14-239a-4abc-82e4-8f3f86581cda",
   "metadata": {},
   "outputs": [
    {
     "name": "stdout",
     "output_type": "stream",
     "text": [
      "A\n",
      "B\n",
      "C\n"
     ]
    }
   ],
   "source": [
    "for ch in letter_range('D'):\n",
    "    print(ch)"
   ]
  },
  {
   "cell_type": "code",
   "execution_count": 128,
   "id": "36ae9159-e22e-4377-89fa-f52a5c56e0ab",
   "metadata": {},
   "outputs": [
    {
     "name": "stdout",
     "output_type": "stream",
     "text": [
      "4\n",
      "9\n",
      "16\n",
      "25\n"
     ]
    }
   ],
   "source": [
    "nums = [2, 3, 4, 5]\n",
    "result = [n * n for n in nums]\n",
    "for x in result:\n",
    "    print(x)"
   ]
  },
  {
   "cell_type": "code",
   "execution_count": 129,
   "id": "993f3eef-e822-42f5-8d55-cb5b6d61c502",
   "metadata": {},
   "outputs": [
    {
     "name": "stdout",
     "output_type": "stream",
     "text": [
      "4\n",
      "9\n",
      "16\n",
      "25\n"
     ]
    }
   ],
   "source": [
    "nums = [2, 3, 4, 5]\n",
    "result = (n * n for n in nums) # generator expression (not a tuple compr)\n",
    "for x in result:\n",
    "    print(x)"
   ]
  },
  {
   "cell_type": "code",
   "execution_count": 130,
   "id": "2e7a8442-dbe4-41c6-84d0-74482fb6acfc",
   "metadata": {},
   "outputs": [],
   "source": [
    "import sys"
   ]
  },
  {
   "cell_type": "code",
   "execution_count": 131,
   "id": "031691c3-d5d8-4c43-b8b1-2a28c45795bf",
   "metadata": {},
   "outputs": [
    {
     "name": "stdout",
     "output_type": "stream",
     "text": [
      "Help on built-in function getsizeof in module sys:\n",
      "\n",
      "getsizeof(...)\n",
      "    getsizeof(object [, default]) -> int\n",
      "    \n",
      "    Return the size of object in bytes.\n",
      "\n"
     ]
    }
   ],
   "source": [
    "help(sys.getsizeof)"
   ]
  },
  {
   "cell_type": "code",
   "execution_count": 141,
   "id": "0a7ce625-cfd0-4065-b00c-a96035a4d1f4",
   "metadata": {},
   "outputs": [],
   "source": [
    "a = [n * n for n in range(10)]"
   ]
  },
  {
   "cell_type": "code",
   "execution_count": 142,
   "id": "abff1569-9923-4021-96ad-86bab5860643",
   "metadata": {},
   "outputs": [],
   "source": [
    "\n",
    "b = (n * n for n in range(10))"
   ]
  },
  {
   "cell_type": "code",
   "execution_count": 143,
   "id": "f1732f75-c741-481e-9d7c-cbab2c67712c",
   "metadata": {},
   "outputs": [
    {
     "data": {
      "text/plain": [
       "184"
      ]
     },
     "execution_count": 143,
     "metadata": {},
     "output_type": "execute_result"
    }
   ],
   "source": [
    "sys.getsizeof(a)"
   ]
  },
  {
   "cell_type": "code",
   "execution_count": 144,
   "id": "c3f516d2-12d0-49f9-9910-aa673e2158e2",
   "metadata": {},
   "outputs": [
    {
     "data": {
      "text/plain": [
       "112"
      ]
     },
     "execution_count": 144,
     "metadata": {},
     "output_type": "execute_result"
    }
   ],
   "source": [
    "sys.getsizeof(b)"
   ]
  },
  {
   "cell_type": "code",
   "execution_count": 145,
   "id": "7f70437d-18ef-4d6a-b300-7500e8ec8849",
   "metadata": {},
   "outputs": [
    {
     "data": {
      "text/plain": [
       "4"
      ]
     },
     "execution_count": 145,
     "metadata": {},
     "output_type": "execute_result"
    }
   ],
   "source": [
    "a[2]"
   ]
  },
  {
   "cell_type": "code",
   "execution_count": 147,
   "id": "6c0ea1fb-3197-4017-826b-01a9ee71d441",
   "metadata": {},
   "outputs": [
    {
     "name": "stdout",
     "output_type": "stream",
     "text": [
      "0\n",
      "1\n",
      "4\n",
      "9\n",
      "16\n",
      "25\n",
      "36\n",
      "49\n",
      "64\n",
      "81\n"
     ]
    }
   ],
   "source": [
    "for n in b:\n",
    "    print(n)"
   ]
  },
  {
   "cell_type": "code",
   "execution_count": 148,
   "id": "d3ded7a7-9d94-4dd6-b2a1-5f19bd188bbb",
   "metadata": {},
   "outputs": [],
   "source": [
    "for n in b:\n",
    "    print(n)"
   ]
  },
  {
   "cell_type": "code",
   "execution_count": 149,
   "id": "35dc1844-b7df-41cb-87d6-7ee2bcd8a476",
   "metadata": {},
   "outputs": [],
   "source": [
    "def make_adder(base_num):\n",
    "    def new_func(n):\n",
    "        return base_num + n\n",
    "    return new_func"
   ]
  },
  {
   "cell_type": "code",
   "execution_count": 150,
   "id": "85c9fb75-a846-4006-8ee5-3c2170e8fac3",
   "metadata": {},
   "outputs": [],
   "source": [
    "f = make_adder(5)"
   ]
  },
  {
   "cell_type": "code",
   "execution_count": 151,
   "id": "e5f12e1c-feef-409a-a4f7-a158fed26f64",
   "metadata": {},
   "outputs": [
    {
     "data": {
      "text/plain": [
       "7"
      ]
     },
     "execution_count": 151,
     "metadata": {},
     "output_type": "execute_result"
    }
   ],
   "source": [
    "f(2)"
   ]
  },
  {
   "cell_type": "code",
   "execution_count": 3,
   "id": "5fc9c777-48e2-4cb8-b16a-8cd05cb29cac",
   "metadata": {},
   "outputs": [],
   "source": [
    "def fact(n):\n",
    "    product = 1\n",
    "    for i in range(n, 0, -1):\n",
    "        product *= i\n",
    "    return product"
   ]
  },
  {
   "cell_type": "code",
   "execution_count": 153,
   "id": "b9784b57-a8a6-4cd8-90fc-9600de4c4c13",
   "metadata": {},
   "outputs": [
    {
     "data": {
      "text/plain": [
       "6"
      ]
     },
     "execution_count": 153,
     "metadata": {},
     "output_type": "execute_result"
    }
   ],
   "source": [
    "fact(3)"
   ]
  },
  {
   "cell_type": "code",
   "execution_count": 154,
   "id": "a4d134c5-a011-46da-afdf-1d876815e7dd",
   "metadata": {},
   "outputs": [
    {
     "data": {
      "text/plain": [
       "6"
      ]
     },
     "execution_count": 154,
     "metadata": {},
     "output_type": "execute_result"
    }
   ],
   "source": [
    "fact(3)"
   ]
  },
  {
   "cell_type": "code",
   "execution_count": 155,
   "id": "962fa375-475b-4b48-a66f-b7f95bd6481c",
   "metadata": {},
   "outputs": [],
   "source": [
    "# cache the result of calling a function\n",
    "# so we don't run the function again, given the same arg"
   ]
  },
  {
   "cell_type": "code",
   "execution_count": 4,
   "id": "98cabf4f-6510-4597-b5e4-00488ce24204",
   "metadata": {},
   "outputs": [],
   "source": [
    "import json\n",
    "def cachify(old_f):\n",
    "    cache = {}\n",
    "    # key will be arg\n",
    "    # val will be return val\n",
    "    def new_f(arg):\n",
    "        k = json.dumps(arg)\n",
    "        if k in cache:\n",
    "            print('cache hit', cache)\n",
    "            ret = cache[k]\n",
    "        else:\n",
    "            print('cache missed', cache)\n",
    "            ret = old_f(arg)\n",
    "            print('added', ret)\n",
    "            cache[k] = ret\n",
    "        return ret\n",
    "    return new_f\n",
    "    \n",
    "    "
   ]
  },
  {
   "cell_type": "code",
   "execution_count": 5,
   "id": "1513cfa4-b6df-4cbc-a7b6-57ab34327bcd",
   "metadata": {},
   "outputs": [],
   "source": [
    "new_fact = cachify(fact)"
   ]
  },
  {
   "cell_type": "code",
   "execution_count": 6,
   "id": "06968a1c-af07-465e-89ae-1f8e4307aed3",
   "metadata": {},
   "outputs": [
    {
     "name": "stdout",
     "output_type": "stream",
     "text": [
      "cache missed {}\n",
      "added 6\n"
     ]
    },
    {
     "data": {
      "text/plain": [
       "6"
      ]
     },
     "execution_count": 6,
     "metadata": {},
     "output_type": "execute_result"
    }
   ],
   "source": [
    "new_fact(3)"
   ]
  },
  {
   "cell_type": "code",
   "execution_count": 7,
   "id": "142901b7-1d5b-47b9-87fb-6d409a575c02",
   "metadata": {},
   "outputs": [
    {
     "name": "stdout",
     "output_type": "stream",
     "text": [
      "cache hit {'3': 6}\n"
     ]
    },
    {
     "data": {
      "text/plain": [
       "6"
      ]
     },
     "execution_count": 7,
     "metadata": {},
     "output_type": "execute_result"
    }
   ],
   "source": [
    "\n",
    "new_fact(3)"
   ]
  },
  {
   "cell_type": "code",
   "execution_count": 174,
   "id": "3a207aed-9442-45e0-a0da-e1d8bd30b3ec",
   "metadata": {},
   "outputs": [],
   "source": [
    "@cachify\n",
    "def inc(x):\n",
    "    return x + 1"
   ]
  },
  {
   "cell_type": "code",
   "execution_count": 175,
   "id": "69c466a0-48f3-498d-a1b6-9ad60978b25e",
   "metadata": {},
   "outputs": [
    {
     "name": "stdout",
     "output_type": "stream",
     "text": [
      "cache missed {}\n",
      "added 3\n"
     ]
    },
    {
     "data": {
      "text/plain": [
       "3"
      ]
     },
     "execution_count": 175,
     "metadata": {},
     "output_type": "execute_result"
    }
   ],
   "source": [
    "inc(2)"
   ]
  },
  {
   "cell_type": "code",
   "execution_count": 176,
   "id": "5ee3389e-7b6c-4a5d-b5fe-b63a9a38f0e8",
   "metadata": {},
   "outputs": [
    {
     "name": "stdout",
     "output_type": "stream",
     "text": [
      "cache hit {'2': 3}\n"
     ]
    },
    {
     "data": {
      "text/plain": [
       "3"
      ]
     },
     "execution_count": 176,
     "metadata": {},
     "output_type": "execute_result"
    }
   ],
   "source": [
    "inc(2)"
   ]
  },
  {
   "cell_type": "markdown",
   "id": "5f5269a4-8216-4a8c-bce9-a4a4db649faf",
   "metadata": {},
   "source": [
    "# decorators\n",
    "\n",
    "* staticmethods\n",
    "* (class decorator) dataclass\n",
    "* flask web framework, decorator to define route handler\n",
    "* require authentication before running route\n",
    "* decorator that performs timings on your function"
   ]
  }
 ],
 "metadata": {
  "kernelspec": {
   "display_name": "Python 3",
   "language": "python",
   "name": "python3"
  },
  "language_info": {
   "codemirror_mode": {
    "name": "ipython",
    "version": 3
   },
   "file_extension": ".py",
   "mimetype": "text/x-python",
   "name": "python",
   "nbconvert_exporter": "python",
   "pygments_lexer": "ipython3",
   "version": "3.8.13"
  }
 },
 "nbformat": 4,
 "nbformat_minor": 5
}
