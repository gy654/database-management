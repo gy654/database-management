{
 "cells": [
  {
   "cell_type": "code",
   "execution_count": null,
   "id": "c20d4232",
   "metadata": {},
   "outputs": [],
   "source": [
    "\"\"\"\n",
    "Add LabeledList and Table classes\n",
    "\"\"\"\n",
    "\n",
    "\n",
    "import numpy as np\n",
    "import csv\n",
    "\n",
    "def read_csv(fn):\n",
    "    with open(fn, 'r') as f:\n",
    "        csv_reader = csv.reader(f, delimiter=',')\n",
    "        columns = next(csv_reader)\n",
    "        data_lines = []\n",
    "        for line in csv_reader:\n",
    "            one_line = []\n",
    "            for i in range(len(line)):\n",
    "                if line[i].isnumeric():\n",
    "                    try:\n",
    "                        one_line.append(float(line[i]))\n",
    "                    except:\n",
    "                        raise ValueError(f\"Value error: {line[i]}\")\n",
    "                else:\n",
    "                    one_line.append(line[i])\n",
    "            if one_line != []:\n",
    "                data_lines.append(one_line) \n",
    "        index = list(range(len(data_lines)))\n",
    "    return Table(data_lines, index, columns)\n",
    "\n",
    "    \n",
    "class LabeledList:\n",
    "\n",
    "    def __init__(self, data= None, index = None):\n",
    "        self.values = data\n",
    "        if index is None:\n",
    "            self.index = list(range(0, len(data)))\n",
    "        else:\n",
    "            self.index = index\n",
    "        self.tup_list = [(self.index[i], self.values[i]) for i in range(len(self.index))]\n",
    "        self.max_iter = len(data)\n",
    "\n",
    "    def __str__(self):\n",
    "        tup_list = self.tup_list\n",
    "        pair_list = [f'{tup[0]:>15}{tup[1]:>15}\\n' for tup in tup_list]\n",
    "        ret = ''.join(pair_list)\n",
    "        return ret\n",
    "    \n",
    "    def __repr__(self):\n",
    "        return str(self)\n",
    "    \n",
    "    def __getitem__(self, key_list):\n",
    "        index = self.index\n",
    "        values = self.values\n",
    "        tup_list = self.tup_list\n",
    "        if isinstance(key_list, LabeledList):\n",
    "            key_list = key_list.values\n",
    "        elif isinstance(key_list, list):\n",
    "            if isinstance(key_list[0], bool):\n",
    "                true_index = [i for i, x in enumerate(key_list) if x]\n",
    "                key_list = [index[i] for i in true_index]\n",
    "        elif isinstance(key_list, str):\n",
    "            if self.index.count(key_list)==1:\n",
    "                return values[index.index(key_list)]\n",
    "            key_list = [key_list]\n",
    "        elif isinstance(key_list, int):\n",
    "            return values[key_list]\n",
    "        else:\n",
    "            raise KeyError\n",
    "        \n",
    "        pair_tuples = [tup for tup in tup_list if tup[0] in key_list]\n",
    "        new_index , new_values = list(zip(*pair_tuples))[0], list(zip(*pair_tuples))[1]\n",
    "        return LabeledList(new_values, new_index)\n",
    "    \n",
    "    def __iter__(self):\n",
    "        self.n = 0\n",
    "        return self\n",
    "\n",
    "    def __next__(self):\n",
    "        values = self.values\n",
    "        if self.n < self.max_iter:\n",
    "            result = values[self.n]\n",
    "            self.n += 1\n",
    "            return result\n",
    "            \n",
    "        else:\n",
    "            raise StopIteration\n",
    "    \n",
    "    def __eq__(self, scalar):\n",
    "        values = self.values\n",
    "        labels = self.index\n",
    "        equal = [False if value is None or value!=scalar else True for value in values]\n",
    "        return LabeledList(equal, labels)\n",
    "        \n",
    "    \n",
    "\n",
    "    def __ne__(self, scalar):\n",
    "        values = self.values\n",
    "        labels = self.index\n",
    "        not_equal = [False if value is None or value==scalar else True for value in values]\n",
    "        return LabeledList(not_equal, labels)\n",
    "    \n",
    "\n",
    "    def __gt__(self, scalar):\n",
    "        values = self.values\n",
    "        labels = self.index\n",
    "        gt = [False if value is None or value<scalar else True for value in values]\n",
    "        return LabeledList(gt, labels)\n",
    "\n",
    "    \n",
    "    def __lt__(self, scalar):\n",
    "        values = self.values\n",
    "        labels = self.index\n",
    "        lt =[False if value is None  or value>scalar else True for value in values]\n",
    "        return LabeledList(lt, labels)\n",
    "\n",
    "    def map(self, f):\n",
    "        res = list(map(f, self.values))\n",
    "        return LabeledList(res, self.index)\n",
    "\n",
    "\n",
    "\n",
    "\n",
    "class Table:\n",
    "\n",
    "    def __init__(self, data, index= None, columns = None):\n",
    "        self.values = data\n",
    "        if index is None:\n",
    "            self.index = list(range(0, len(data)))\n",
    "        else:\n",
    "            self.index = index\n",
    "        if columns is None:\n",
    "            self.columns = list(range(0, len(data[0])))\n",
    "        else:\n",
    "            self.columns = columns\n",
    "        self.max_iter = len(data)\n",
    "    \n",
    "\n",
    "    def __str__(self):\n",
    "        columns = self.columns\n",
    "        index = self.index\n",
    "        values = self.values\n",
    "        join_list = lambda l: ''.join([f'{w:>15}' for w in l])+'\\n'\n",
    "        heading =  join_list(columns)\n",
    "        row_list = [f\"{index[i]}\" + join_list(values[i]) for i in range(len(index))]\n",
    "        combined = heading + ''.join(row_list)\n",
    "        return combined\n",
    "    \n",
    "    def __repr__(self):\n",
    "        return str(self)\n",
    "    \n",
    "    def __iter__(self):\n",
    "        self.n = 0\n",
    "        return self\n",
    "    \n",
    "    def __next__(self):\n",
    "        values = self.values\n",
    "        if self.n < self.max_iter:\n",
    "            result = values[self.n]\n",
    "            self.n += 1\n",
    "            return result\n",
    "            \n",
    "        else:\n",
    "            raise StopIteration\n",
    "\n",
    "\n",
    "    def __getitem__(self, col_list):\n",
    "        columns = self.columns\n",
    "        index = self.index\n",
    "        values = self.values\n",
    "        get_a_column = lambda i: [value[i] for value in values]\n",
    "        get_a_row = lambda i: values[i]\n",
    "\n",
    "        def indices(lst, item):\n",
    "            return [i for i, x in enumerate(lst) if x == item]\n",
    "        \n",
    "        def indices_of_duplicates(col_list):\n",
    "            ret = []\n",
    "            for col in col_list:\n",
    "                ret.append(columns.index(col))\n",
    "            return ret\n",
    "\n",
    "        def get_col_index_and_list(col_list):\n",
    "\n",
    "            if isinstance(col_list[0], bool):\n",
    "                row_index = [i for i, x in enumerate(col_list) if x]\n",
    "                col_index = list(range(0, len(columns)))\n",
    "                select_row = True\n",
    "                select_column = False\n",
    "            else:\n",
    "                if len(set(col_list)) == len(col_list):\n",
    "                    col_index = [indices(columns, col) for col in col_list]\n",
    "                    col_index = [item for sublist in col_index for item in sublist]\n",
    "                     \n",
    "                else:\n",
    "                    col_index = indices_of_duplicates(col_list)\n",
    "                row_index = index\n",
    "                select_row = False\n",
    "                select_column = True\n",
    "            \n",
    "            if select_row:\n",
    "                new_values = [get_a_row(i) for i in row_index]\n",
    "            elif select_column:\n",
    "                new_values = [get_a_column(i) for i in col_index]\n",
    "                new_values = list(np.array(new_values).T)\n",
    "            return col_index, row_index, new_values, select_row\n",
    "\n",
    "        if isinstance(col_list, LabeledList):\n",
    "            col_list = col_list.values\n",
    "            col_index, row_index, new_values, select_row = get_col_index_and_list(col_list)\n",
    "            new_col_list = [columns[i] for i in col_index]\n",
    "            new_table = Table(new_values, row_index, new_col_list)\n",
    "            return new_table\n",
    "            \n",
    "        elif isinstance(col_list, list):\n",
    "            col_index,  row_index, new_values, select_row = get_col_index_and_list(col_list)\n",
    "            new_col_list = [columns[i] for i in col_index]\n",
    "            if select_row:\n",
    "                # if filtering rows, change the index to those in the unfiltered df\n",
    "                row_index = [self.index[i] for i in row_index]\n",
    "                new_table = Table(new_values, row_index, new_col_list)\n",
    "            else:\n",
    "                # without filtering rows, index unchanged\n",
    "                new_table = Table(new_values, row_index, new_col_list)\n",
    "            return new_table\n",
    "            \n",
    "            \n",
    "        elif isinstance(col_list, str):\n",
    "            col_index = indices(columns, col_list)\n",
    "            if len(col_index) == 1:  \n",
    "                ret_col = get_a_column(col_index[0])\n",
    "                return LabeledList(ret_col, index)\n",
    "            else:\n",
    "                new_values = [get_a_column(i) for i in col_index]\n",
    "                new_values = list(np.array(new_values).T)\n",
    "                row_index = index\n",
    "                new_col_list = [columns[i] for i in col_index]\n",
    "                new_table = Table(new_values, row_index, new_col_list)\n",
    "                return new_table\n",
    "        else:\n",
    "            raise KeyError()\n",
    "\n",
    "\n",
    "    def head(self, n):\n",
    "        new_values = self.values[:n]\n",
    "        new_index = self.index[:n]\n",
    "        return Table(new_values, new_index, self.columns)\n",
    "    \n",
    "    def tail(self, n):\n",
    "        new_values = self.values[-n:]\n",
    "        new_index = self.index[-n:]\n",
    "        return Table(new_values, new_index, self.columns)\n",
    "    \n",
    "    def shape(self):\n",
    "        return (len(self.index), len(self.columns))\n",
    "    \n",
    "\n",
    "\n",
    "            "
   ]
  },
  {
   "cell_type": "markdown",
   "id": "70d093a0",
   "metadata": {},
   "source": [
    "# Table of Contents\n",
    "\n",
    "* [first lambda](#first-lambda)\n",
    "* [second lambda](#second-lambda)"
   ]
  },
  {
   "cell_type": "markdown",
   "id": "6ec39ecb",
   "metadata": {},
   "source": [
    "## first lambda"
   ]
  },
  {
   "cell_type": "code",
   "execution_count": 18,
   "id": "ef325df0-23aa-4a67-9056-b1271767446b",
   "metadata": {},
   "outputs": [
    {
     "name": "stdout",
     "output_type": "stream",
     "text": [
      "('Data Entry Keyers', 35850) ('Computer and Information Systems Managers', 161730)\n"
     ]
    }
   ],
   "source": [
    "import csv\n",
    "\n",
    "file_path = './occupations-truncated.csv'\n",
    "with open(file_path, 'r') as f:\n",
    "    csv_reader = csv.reader(f, delimiter=',')\n",
    "    next(csv_reader)\n",
    "    lines = [(line[1], int(line[4].replace('$', '').replace(',', ''))) for line in csv_reader if 'computer' in line[1].lower() or 'data' in line[1].lower()] \n",
    "    max_occupation = max(lines, key = lambda x: x[-1])\n",
    "    min_occupation = min(lines, key = lambda x: x[-1])\n",
    "print( min_occupation, max_occupation,)\n"
   ]
  },
  {
   "cell_type": "code",
   "execution_count": 19,
   "id": "de64acb4",
   "metadata": {},
   "outputs": [],
   "source": [
    "import nelta as nt\n",
    "import numpy as np"
   ]
  },
  {
   "cell_type": "code",
   "execution_count": 20,
   "id": "cc6f430f",
   "metadata": {},
   "outputs": [
    {
     "data": {
      "text/plain": [
       "(1034, 5)"
      ]
     },
     "execution_count": 20,
     "metadata": {},
     "output_type": "execute_result"
    }
   ],
   "source": [
    "file_path = './occupations-truncated.csv'\n",
    "occupation = nt.read_csv(file_path)\n",
    "occupation.shape()"
   ]
  },
  {
   "cell_type": "code",
   "execution_count": 21,
   "id": "e1c848f5",
   "metadata": {},
   "outputs": [
    {
     "data": {
      "text/plain": [
       "['Occupation code',\n",
       " 'Occupation title',\n",
       " 'Level',\n",
       " 'Employment',\n",
       " 'Annual mean wage']"
      ]
     },
     "execution_count": 21,
     "metadata": {},
     "output_type": "execute_result"
    }
   ],
   "source": [
    "occupation.columns"
   ]
  },
  {
   "cell_type": "code",
   "execution_count": 22,
   "id": "d426ce78",
   "metadata": {},
   "outputs": [
    {
     "data": {
      "text/plain": [
       "Occupation codeOccupation title          Level     EmploymentAnnual mean wage\n",
       "0        00-0000All Occupations          total    139099570.0        $56,310\n",
       "1        11-0000Management Occupations          major      7947300.0       $126,480\n",
       "2        11-1000 Top Executives          minor      2601070.0       $129,920\n",
       "3        11-1011Chief Executives         detail       202360.0       $197,840"
      ]
     },
     "execution_count": 22,
     "metadata": {},
     "output_type": "execute_result"
    }
   ],
   "source": [
    "occupation.head(4)"
   ]
  },
  {
   "cell_type": "code",
   "execution_count": 23,
   "id": "b11ead87",
   "metadata": {},
   "outputs": [],
   "source": [
    "last_four = occupation.tail(4)"
   ]
  },
  {
   "cell_type": "code",
   "execution_count": 24,
   "id": "5ee59126",
   "metadata": {},
   "outputs": [
    {
     "data": {
      "text/plain": [
       "           1030        12050.0\n",
       "           1031       120850.0\n",
       "           1032        12610.0\n",
       "           1033        26300.0"
      ]
     },
     "execution_count": 24,
     "metadata": {},
     "output_type": "execute_result"
    }
   ],
   "source": [
    "last_four['Employment']"
   ]
  },
  {
   "cell_type": "code",
   "execution_count": 25,
   "id": "7c34caf9",
   "metadata": {},
   "outputs": [
    {
     "name": "stdout",
     "output_type": "stream",
     "text": [
      "12050.0\n",
      "120850.0\n",
      "12610.0\n",
      "26300.0\n"
     ]
    }
   ],
   "source": [
    "employment_iter = iter(last_four['Employment'])\n",
    "for i in employment_iter:\n",
    "    print(i)"
   ]
  },
  {
   "cell_type": "code",
   "execution_count": 26,
   "id": "91ad78e3",
   "metadata": {},
   "outputs": [
    {
     "data": {
      "text/plain": [
       "Occupation codeOccupation title          Level     EmploymentAnnual mean wage\n",
       "1030        53-7073Wellhead Pumpers         detail        12050.0        $60,500\n",
       "1031        53-7081Refuse and Recyclable Material Collectors         detail       120850.0        $42,620\n",
       "1032        53-7121Tank Car, Truck, and Ship Loaders         detail        12610.0        $50,670\n",
       "1033        53-7199Material Moving Workers, All Other         detail        26300.0        $37,770"
      ]
     },
     "execution_count": 26,
     "metadata": {},
     "output_type": "execute_result"
    }
   ],
   "source": [
    "last_four"
   ]
  },
  {
   "cell_type": "code",
   "execution_count": 27,
   "id": "2a696ba8",
   "metadata": {},
   "outputs": [
    {
     "data": {
      "text/plain": [
       "Occupation title     Employment\n",
       "1030Wellhead Pumpers        12050.0\n",
       "1031Refuse and Recyclable Material Collectors       120850.0\n",
       "1032Tank Car, Truck, and Ship Loaders        12610.0\n",
       "1033Material Moving Workers, All Other        26300.0"
      ]
     },
     "execution_count": 27,
     "metadata": {},
     "output_type": "execute_result"
    }
   ],
   "source": [
    "last_four[['Occupation title', 'Employment']]"
   ]
  },
  {
   "cell_type": "code",
   "execution_count": 28,
   "id": "db86fc34",
   "metadata": {},
   "outputs": [],
   "source": [
    "level_list = occupation['Level'].values\n",
    "detail_index = [True if level_list[i]=='detail' else False for i in range(len(level_list)) ]\n",
    "details = occupation[detail_index]"
   ]
  },
  {
   "cell_type": "code",
   "execution_count": 29,
   "id": "42c2fa49",
   "metadata": {},
   "outputs": [],
   "source": [
    "my_filter = details['Employment']< 500"
   ]
  },
  {
   "cell_type": "code",
   "execution_count": 30,
   "id": "661ae3d8",
   "metadata": {},
   "outputs": [
    {
     "data": {
      "text/plain": [
       "nelta.LabeledList"
      ]
     },
     "execution_count": 30,
     "metadata": {},
     "output_type": "execute_result"
    }
   ],
   "source": [
    "type(my_filter)"
   ]
  },
  {
   "cell_type": "code",
   "execution_count": 31,
   "id": "192345de",
   "metadata": {},
   "outputs": [
    {
     "data": {
      "text/plain": [
       "Occupation codeOccupation title          Level     EmploymentAnnual mean wage\n",
       "508        35-2013Cooks, Private Household         detail          320.0        $46,810\n",
       "916        51-7032Patternmakers, Wood         detail          190.0        $60,750"
      ]
     },
     "execution_count": 31,
     "metadata": {},
     "output_type": "execute_result"
    }
   ],
   "source": [
    "details[my_filter.values]"
   ]
  },
  {
   "cell_type": "markdown",
   "id": "e42d4c81",
   "metadata": {},
   "source": [
    "## second lambda"
   ]
  },
  {
   "cell_type": "code",
   "execution_count": 32,
   "id": "15ef6fed",
   "metadata": {},
   "outputs": [
    {
     "data": {
      "text/plain": [
       "Occupation codeOccupation title          Level     EmploymentAnnual mean wage\n",
       "508        35-2013COOKS, PRIVATE HOUSEHOLD         detail          320.0        $46,810\n",
       "916        51-7032PATTERNMAKERS, WOOD         detail          190.0        $60,750"
      ]
     },
     "execution_count": 32,
     "metadata": {},
     "output_type": "execute_result"
    }
   ],
   "source": [
    "rare_occ = details[my_filter.values]\n",
    "for row in rare_occ:\n",
    "    row[1] = ''.join(list(map(lambda s: s.upper(), row[1])))\n",
    "rare_occ"
   ]
  },
  {
   "cell_type": "code",
   "execution_count": 33,
   "id": "a2d93058",
   "metadata": {},
   "outputs": [
    {
     "data": {
      "text/plain": [
       "Occupation codeOccupation title          Level     EmploymentAnnual mean wage\n",
       "508        35-2013COOKS, PRIVATE HOUSEHOLD         detail          320.0        $46,810\n",
       "916        51-7032PATTERNMAKERS, WOOD         detail          190.0        $60,750"
      ]
     },
     "execution_count": 33,
     "metadata": {},
     "output_type": "execute_result"
    }
   ],
   "source": [
    "rare_occ"
   ]
  },
  {
   "cell_type": "code",
   "execution_count": 34,
   "id": "45eb664b",
   "metadata": {},
   "outputs": [
    {
     "data": {
      "text/plain": [
       "Occupation codeOccupation title          Level     EmploymentAnnual mean wage\n",
       "383        29-1022Oral and Maxillofacial Surgeons         detail         4120.0         234990\n",
       "384        29-1023  Orthodontists         detail         5040.0         237990\n",
       "385        29-1024Prosthodontists         detail          530.0         214870\n",
       "407        29-1211Anesthesiologists         detail        28590.0         271440\n",
       "408        29-1215Family Medicine Physicians         detail        98590.0         214370\n",
       "409        29-1216General Internal Medicine Physicians         detail        50600.0         210960\n",
       "410        29-1218Obstetricians and Gynecologists         detail        18900.0         239120\n",
       "412        29-1223  Psychiatrists         detail        25540.0         217100\n",
       "413        29-1228Physicians, All Other; and Ophthalmologist...         detail       375390.0         218850\n",
       "414        29-1248Surgeons, Except Ophthalmologists         detail        37900.0         251650"
      ]
     },
     "execution_count": 34,
     "metadata": {},
     "output_type": "execute_result"
    }
   ],
   "source": [
    "for row in occupation:  \n",
    "    row[4] = int(row[4].replace('$', '').replace(',', ''))\n",
    "gt_200000_list = occupation['Annual mean wage']>200000\n",
    "occupation[gt_200000_list.values]"
   ]
  }
 ],
 "metadata": {
  "kernelspec": {
   "display_name": "Python 3",
   "language": "python",
   "name": "python3"
  },
  "language_info": {
   "codemirror_mode": {
    "name": "ipython",
    "version": 3
   },
   "file_extension": ".py",
   "mimetype": "text/x-python",
   "name": "python",
   "nbconvert_exporter": "python",
   "pygments_lexer": "ipython3",
   "version": "3.8.13"
  }
 },
 "nbformat": 4,
 "nbformat_minor": 5
}
