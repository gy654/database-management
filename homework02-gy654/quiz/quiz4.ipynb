{
 "cells": [
  {
   "cell_type": "code",
   "execution_count": 1,
   "metadata": {},
   "outputs": [
    {
     "name": "stdout",
     "output_type": "stream",
     "text": [
      "(3, 5)\n"
     ]
    }
   ],
   "source": [
    "import numpy as np\n",
    "arr = np.array([range(5), range(5), range(5)])\n",
    "print(arr.shape) # fill in the blank property name\n",
    "# prints out the tuple, (3, 5)"
   ]
  },
  {
   "cell_type": "code",
   "execution_count": 3,
   "metadata": {},
   "outputs": [
    {
     "data": {
      "text/plain": [
       "array([[ 0,  1,  2,  3],\n",
       "       [ 4,  5,  6,  7],\n",
       "       [ 8,  9, 10, 11],\n",
       "       [12, 13, 14, 15],\n",
       "       [16, 17, 18, 19],\n",
       "       [20, 21, 22, 23],\n",
       "       [24, 25, 26, 27],\n",
       "       [28, 29, 30, 31]])"
      ]
     },
     "execution_count": 3,
     "metadata": {},
     "output_type": "execute_result"
    }
   ],
   "source": [
    "data = np.arange(32).reshape(8,4)\n",
    "data"
   ]
  },
  {
   "cell_type": "code",
   "execution_count": 5,
   "metadata": {},
   "outputs": [
    {
     "data": {
      "text/plain": [
       "array([22, 55])"
      ]
     },
     "execution_count": 5,
     "metadata": {},
     "output_type": "execute_result"
    }
   ],
   "source": [
    "a = np.array([[11, 22, 33],\n",
    " [44, 55, 66],\n",
    " [77, 88, 99]] )\n",
    "a[0:2, 1]"
   ]
  },
  {
   "cell_type": "code",
   "execution_count": 6,
   "metadata": {},
   "outputs": [
    {
     "data": {
      "text/plain": [
       "array([[3, 4, 5],\n",
       "       [3, 4, 5],\n",
       "       [3, 4, 5],\n",
       "       [0, 1, 2]])"
      ]
     },
     "execution_count": 6,
     "metadata": {},
     "output_type": "execute_result"
    }
   ],
   "source": [
    "data = np.array([[0, 1, 2],\n",
    " [3, 4, 5],\n",
    " [6, 7, 8]])\n",
    "data[[1, 1, 1, 0]]"
   ]
  },
  {
   "cell_type": "code",
   "execution_count": 8,
   "metadata": {},
   "outputs": [
    {
     "data": {
      "text/plain": [
       "array([[44, 55, 66],\n",
       "       [11, 22, 33]])"
      ]
     },
     "execution_count": 8,
     "metadata": {},
     "output_type": "execute_result"
    }
   ],
   "source": [
    "a = np.array([[11, 22, 33],\n",
    " [44, 55, 66],\n",
    " [77, 88, 99]])\n",
    "a[[1, 0]]"
   ]
  },
  {
   "cell_type": "code",
   "execution_count": 13,
   "metadata": {},
   "outputs": [
    {
     "data": {
      "text/plain": [
       "array([[[480, 480],\n",
       "        [480, 480]],\n",
       "\n",
       "       [[480, 480],\n",
       "        [480, 480]]])"
      ]
     },
     "execution_count": 13,
     "metadata": {},
     "output_type": "execute_result"
    }
   ],
   "source": [
    "nested = np.array([\n",
    "    [[1, 2], \n",
    "     [3, 4]], \n",
    "\n",
    "    [[5, 6], \n",
    "     [7, 8]]])\n",
    "nested[:,:] = 480\n",
    "nested"
   ]
  },
  {
   "cell_type": "code",
   "execution_count": 14,
   "metadata": {},
   "outputs": [
    {
     "data": {
      "text/plain": [
       "array([4., 5., 6., 7.])"
      ]
     },
     "execution_count": 14,
     "metadata": {},
     "output_type": "execute_result"
    }
   ],
   "source": [
    "data = np.array([[ 0,  1,  2,  3],\n",
    " [ 4,  5,  6,  7],\n",
    " [ 8,  9, 10, 11]])\n",
    "data.mean(axis=0)"
   ]
  },
  {
   "cell_type": "code",
   "execution_count": 18,
   "metadata": {},
   "outputs": [
    {
     "data": {
      "text/plain": [
       "14.391796605143135"
      ]
     },
     "execution_count": 18,
     "metadata": {},
     "output_type": "execute_result"
    }
   ],
   "source": [
    "data = [119, 111, 137, 144, 134, 159, 142, 147, 164, 142, 129, 145, 157, 152, 146]\n",
    "np.sqrt(np.var(data, ddof = 1))"
   ]
  },
  {
   "cell_type": "code",
   "execution_count": 19,
   "metadata": {},
   "outputs": [
    {
     "name": "stdout",
     "output_type": "stream",
     "text": [
      "(142, 2)\n",
      "(142, 2)\n",
      "[(119, 1), (111, 1), (137, 1), (144, 1), (134, 1), (159, 1), (147, 1), (164, 1), (129, 1), (145, 1), (157, 1), (152, 1), (146, 1), (142, 2)]\n",
      "164\n",
      "(164, 1)\n"
     ]
    }
   ],
   "source": [
    "counts = {}\n",
    "\n",
    "for item in data:\n",
    "      if item in counts:\n",
    "           counts[item] += 1\n",
    "      else:\n",
    "          counts[item] = 1\n",
    "\t\n",
    "print(sorted(counts.items(), key=lambda t: t[1])[-1])\n",
    "print(max(counts.items(), key=lambda t: t[1]))\n",
    "print(sorted(counts.items(), key=lambda t: t[1]))\n",
    "print(max(counts))\n",
    "print(max(counts.items(), key=lambda t: t[0]))"
   ]
  },
  {
   "cell_type": "code",
   "execution_count": null,
   "metadata": {},
   "outputs": [],
   "source": []
  }
 ],
 "metadata": {
  "interpreter": {
   "hash": "b6204de1d4fffdd0a95a5252b294d48853947524adf31509e55ec91f12fd0374"
  },
  "kernelspec": {
   "display_name": "Python 3.8.13 ('dma')",
   "language": "python",
   "name": "python3"
  },
  "language_info": {
   "codemirror_mode": {
    "name": "ipython",
    "version": 3
   },
   "file_extension": ".py",
   "mimetype": "text/x-python",
   "name": "python",
   "nbconvert_exporter": "python",
   "pygments_lexer": "ipython3",
   "version": "3.8.13"
  },
  "orig_nbformat": 4
 },
 "nbformat": 4,
 "nbformat_minor": 2
}
