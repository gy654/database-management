{
 "cells": [
  {
   "cell_type": "markdown",
   "metadata": {},
   "source": [
    "## Part 2 - Using an API\n",
    "# Overview\n",
    "\n",
    "In this part of the assignment, you'll request data from a server in json format, parse it, and load it into a DataFrame. Using this DataFrame you'll use aggregations to produce a report.\n",
    "\n",
    "The data set is composed of films from the Japanese animation film studio, Studio Ghibli.\n",
    "\n",
    "It is being served from a mirror of the data on linserv1.cims.nyu.edu. Note, however, that the original data is from https://ghibliapi.herokuapp.com/, which is under an MIT License. This is mirrored so that we do not overwhelm the original data source with requests."
   ]
  },
  {
   "cell_type": "markdown",
   "metadata": {},
   "source": [
    "## Instructions\n",
    "The goal of the assignment is to create a report showing director's names, the number of Ghibli films that the directors was involved in, and the average rotten tomatoes score of the Studio Ghibli films made by that director.\n",
    "\n"
   ]
  },
  {
   "cell_type": "markdown",
   "metadata": {},
   "source": [
    "**1. Retrieve the data, and examine it.**\n",
    "\n",
    "- In `films.ipynb', programmatically retrieve one page of json from this URL: http://linserv1.cims.nyu.edu:10000/films?_page=1\n",
    "- You can use requests to do this\n",
    "    -  you can use the json module to manually parse the response content\n",
    "    - Or …. use a feature of the requests module that allows immediate parsing of a json response by calling the json() method\n",
    "    - r = requests.get('some.url')\n",
    "    - d = r.json() # parses json into dictionary!\n",
    "- Examine the keys and values of the dictionary\n",
    "- In a markdown cell, write out what keys you may be interested in to create the report specified above\n",
    "- Try incrementing the last number in the url where page is 1 … do you get different results?\n",
    "- In a markdown cell, describe what happens when you modify the url"
   ]
  },
  {
   "cell_type": "code",
   "execution_count": 1,
   "metadata": {},
   "outputs": [],
   "source": [
    "import requests\n",
    "import json\n",
    "import pandas as pd\n",
    "import numpy as np\n",
    "link = 'http://linserv1.cims.nyu.edu:10000/films?_page=1'\n",
    "d = requests.get(link).json()\n",
    "#case = d[0]"
   ]
  },
  {
   "cell_type": "code",
   "execution_count": 3,
   "metadata": {},
   "outputs": [
    {
     "name": "stdout",
     "output_type": "stream",
     "text": [
      "case0:[('id', '2baf70d1-42bb-4437-b551-e5fed5a87abe'), ('title', 'Castle in the Sky'), ('original_title', '天空の城ラピュタ'), ('original_title_romanised', 'Tenkū no shiro Rapyuta'), ('description', \"The orphan Sheeta inherited a mysterious crystal that links her to the mythical sky-kingdom of Laputa. With the help of resourceful Pazu and a rollicking band of sky pirates, she makes her way to the ruins of the once-great civilization. Sheeta and Pazu must outwit the evil Muska, who plans to use Laputa's science to make himself ruler of the world.\"), ('director', 'Hayao Miyazaki'), ('producer', 'Isao Takahata'), ('release_date', '1986'), ('running_time', '124'), ('rt_score', '95'), ('people', ['https://ghibliapi.herokuapp.com/people/']), ('species', ['https://ghibliapi.herokuapp.com/species/af3910a6-429f-4c74-9ad5-dfe1c4aa04f2']), ('locations', ['https://ghibliapi.herokuapp.com/locations/']), ('vehicles', ['https://ghibliapi.herokuapp.com/vehicles/']), ('url', 'https://ghibliapi.herokuapp.com/films/2baf70d1-42bb-4437-b551-e5fed5a87abe')]\n",
      "case1:[('id', '12cfb892-aac0-4c5b-94af-521852e46d6a'), ('title', 'Grave of the Fireflies'), ('original_title', '火垂るの墓'), ('original_title_romanised', 'Hotaru no haka'), ('description', 'In the latter part of World War II, a boy and his sister, orphaned when their mother is killed in the firebombing of Tokyo, are left to survive on their own in what remains of civilian life in Japan. The plot follows this boy and his sister as they do their best to survive in the Japanese countryside, battling hunger, prejudice, and pride in their own quiet, personal battle.'), ('director', 'Isao Takahata'), ('producer', 'Toru Hara'), ('release_date', '1988'), ('running_time', '89'), ('rt_score', '97'), ('people', ['https://ghibliapi.herokuapp.com/people/']), ('species', ['https://ghibliapi.herokuapp.com/species/af3910a6-429f-4c74-9ad5-dfe1c4aa04f2']), ('locations', ['https://ghibliapi.herokuapp.com/locations/']), ('vehicles', ['https://ghibliapi.herokuapp.com/vehicles/']), ('url', 'https://ghibliapi.herokuapp.com/films/12cfb892-aac0-4c5b-94af-521852e46d6a')]\n",
      "case2:[('id', '58611129-2dbc-4a81-a72f-77ddfc1b1b49'), ('title', 'My Neighbor Totoro'), ('original_title', 'となりのトトロ'), ('original_title_romanised', 'Tonari no Totoro'), ('description', 'Two sisters move to the country with their father in order to be closer to their hospitalized mother, and discover the surrounding trees are inhabited by Totoros, magical spirits of the forest. When the youngest runs away from home, the older sister seeks help from the spirits to find her.'), ('director', 'Hayao Miyazaki'), ('producer', 'Hayao Miyazaki'), ('release_date', '1988'), ('running_time', '86'), ('rt_score', '93'), ('people', ['https://ghibliapi.herokuapp.com/people/986faac6-67e3-4fb8-a9ee-bad077c2e7fe', 'https://ghibliapi.herokuapp.com/people/d5df3c04-f355-4038-833c-83bd3502b6b9', 'https://ghibliapi.herokuapp.com/people/3031caa8-eb1a-41c6-ab93-dd091b541e11', 'https://ghibliapi.herokuapp.com/people/87b68b97-3774-495b-bf80-495a5f3e672d', 'https://ghibliapi.herokuapp.com/people/d39deecb-2bd0-4770-8b45-485f26e1381f', 'https://ghibliapi.herokuapp.com/people/591524bc-04fe-4e60-8d61-2425e42ffb2a', 'https://ghibliapi.herokuapp.com/people/c491755a-407d-4d6e-b58a-240ec78b5061', 'https://ghibliapi.herokuapp.com/people/f467e18e-3694-409f-bdb3-be891ade1106', 'https://ghibliapi.herokuapp.com/people/08ffbce4-7f94-476a-95bc-76d3c3969c19', 'https://ghibliapi.herokuapp.com/people/0f8ef701-b4c7-4f15-bd15-368c7fe38d0a']), ('species', ['https://ghibliapi.herokuapp.com/species/af3910a6-429f-4c74-9ad5-dfe1c4aa04f2', 'https://ghibliapi.herokuapp.com/species/603428ba-8a86-4b0b-a9f1-65df6abef3d3', 'https://ghibliapi.herokuapp.com/species/74b7f547-1577-4430-806c-c358c8b6bcf5']), ('locations', ['https://ghibliapi.herokuapp.com/locations/']), ('vehicles', ['https://ghibliapi.herokuapp.com/vehicles/']), ('url', 'https://ghibliapi.herokuapp.com/films/58611129-2dbc-4a81-a72f-77ddfc1b1b49')]\n",
      "case3:[('id', 'ea660b10-85c4-4ae3-8a5f-41cea3648e3e'), ('title', \"Kiki's Delivery Service\"), ('original_title', '魔女の宅急便'), ('original_title_romanised', 'Majo no takkyūbin'), ('description', 'A young witch, on her mandatory year of independent life, finds fitting into a new community difficult while she supports herself by running an air courier service.'), ('director', 'Hayao Miyazaki'), ('producer', 'Hayao Miyazaki'), ('release_date', '1989'), ('running_time', '102'), ('rt_score', '96'), ('people', ['https://ghibliapi.herokuapp.com/people/']), ('species', ['https://ghibliapi.herokuapp.com/species/af3910a6-429f-4c74-9ad5-dfe1c4aa04f2']), ('locations', ['https://ghibliapi.herokuapp.com/locations/']), ('vehicles', ['https://ghibliapi.herokuapp.com/vehicles/']), ('url', 'https://ghibliapi.herokuapp.com/films/ea660b10-85c4-4ae3-8a5f-41cea3648e3e')]\n",
      "case4:[('id', '4e236f34-b981-41c3-8c65-f8c9000b94e7'), ('title', 'Only Yesterday'), ('original_title', 'おもひでぽろぽろ'), ('original_title_romanised', 'Omoide poro poro'), ('description', 'It’s 1982, and Taeko is 27 years old, unmarried, and has lived her whole life in Tokyo. She decides to visit her family in the countryside, and as the train travels through the night, memories flood back of her younger years: the first immature stirrings of romance, the onset of puberty, and the frustrations of math and boys. At the station she is met by young farmer Toshio, and the encounters with him begin to reconnect her to forgotten longings. In lyrical switches between the present and the past, Taeko contemplates the arc of her life, and wonders if she has been true to the dreams of her childhood self.'), ('director', 'Isao Takahata'), ('producer', 'Toshio Suzuki'), ('release_date', '1991'), ('running_time', '118'), ('rt_score', '100'), ('people', ['https://ghibliapi.herokuapp.com/people/']), ('species', ['https://ghibliapi.herokuapp.com/species/af3910a6-429f-4c74-9ad5-dfe1c4aa04f2']), ('locations', ['https://ghibliapi.herokuapp.com/locations/']), ('vehicles', ['https://ghibliapi.herokuapp.com/vehicles/']), ('url', 'https://ghibliapi.herokuapp.com/films/4e236f34-b981-41c3-8c65-f8c9000b94e7')]\n",
      "case5:[('id', 'ebbb6b7c-945c-41ee-a792-de0e43191bd8'), ('title', 'Porco Rosso'), ('original_title', '紅の豚'), ('original_title_romanised', 'Kurenai no buta'), ('description', \"Porco Rosso, known in Japan as Crimson Pig (Kurenai no Buta) is the sixth animated film by Hayao Miyazaki and released in 1992. You're introduced to an Italian World War I fighter ace, now living as a freelance bounty hunter chasing 'air pirates' in the Adriatic Sea. He has been given a curse that changed his head to that of a pig. Once called Marco Pagot, he is now known to the world as 'Porco Rosso', Italian for 'Red Pig.'\"), ('director', 'Hayao Miyazaki'), ('producer', 'Toshio Suzuki'), ('release_date', '1992'), ('running_time', '93'), ('rt_score', '94'), ('people', ['https://ghibliapi.herokuapp.com/people/']), ('species', ['https://ghibliapi.herokuapp.com/species/af3910a6-429f-4c74-9ad5-dfe1c4aa04f2']), ('locations', ['https://ghibliapi.herokuapp.com/locations/']), ('vehicles', ['https://ghibliapi.herokuapp.com/vehicles/']), ('url', 'https://ghibliapi.herokuapp.com/films/ebbb6b7c-945c-41ee-a792-de0e43191bd8')]\n",
      "case6:[('id', '1b67aa9a-2e4a-45af-ac98-64d6ad15b16c'), ('title', 'Pom Poko'), ('original_title', '平成狸合戦ぽんぽこ'), ('original_title_romanised', 'Heisei tanuki gassen Ponpoko'), ('description', \"As the human city development encroaches on the raccoon population's forest and meadow habitat, the raccoons find themselves faced with the very real possibility of extinction. In response, the raccoons engage in a desperate struggle to stop the construction and preserve their home.\"), ('director', 'Isao Takahata'), ('producer', 'Toshio Suzuki'), ('release_date', '1994'), ('running_time', '119'), ('rt_score', '78'), ('people', ['https://ghibliapi.herokuapp.com/people/']), ('species', ['https://ghibliapi.herokuapp.com/species/af3910a6-429f-4c74-9ad5-dfe1c4aa04f2']), ('locations', ['https://ghibliapi.herokuapp.com/locations/']), ('vehicles', ['https://ghibliapi.herokuapp.com/vehicles/']), ('url', 'https://ghibliapi.herokuapp.com/films/1b67aa9a-2e4a-45af-ac98-64d6ad15b16c')]\n",
      "case7:[('id', 'ff24da26-a969-4f0e-ba1e-a122ead6c6e3'), ('title', 'Whisper of the Heart'), ('original_title', '耳をすませば'), ('original_title_romanised', 'Mimi wo sumaseba'), ('description', \"Shizuku lives a simple life, dominated by her love for stories and writing. One day she notices that all the library books she has have been previously checked out by the same person: 'Seiji Amasawa'. Curious as to who he is, Shizuku meets a boy her age whom she finds infuriating, but discovers to her shock that he is her 'Prince of Books'. As she grows closer to him, she realises that he merely read all those books to bring himself closer to her. The boy Seiji aspires to be a violin maker in Italy, and it is his dreams that make Shizuku realise that she has no clear path for her life. Knowing that her strength lies in writing, she tests her talents by writing a story about Baron, a cat statuette belonging to Seiji's grandfather.\"), ('director', 'Yoshifumi Kondō'), ('producer', 'Toshio Suzuki'), ('release_date', '1995'), ('running_time', '111'), ('rt_score', '91'), ('people', ['https://ghibliapi.herokuapp.com/people/']), ('species', ['https://ghibliapi.herokuapp.com/species/af3910a6-429f-4c74-9ad5-dfe1c4aa04f2']), ('locations', ['https://ghibliapi.herokuapp.com/locations/']), ('vehicles', ['https://ghibliapi.herokuapp.com/vehicles/']), ('url', 'https://ghibliapi.herokuapp.com/films/ff24da26-a969-4f0e-ba1e-a122ead6c6e3')]\n",
      "case8:[('id', '0440483e-ca0e-4120-8c50-4c8cd9b965d6'), ('title', 'Princess Mononoke'), ('original_title', 'もののけ姫'), ('original_title_romanised', 'Mononoke hime'), ('description', 'Ashitaka, a prince of the disappearing Ainu tribe, is cursed by a demonized boar god and must journey to the west to find a cure. Along the way, he encounters San, a young human woman fighting to protect the forest, and Lady Eboshi, who is trying to destroy it. Ashitaka must find a way to bring balance to this conflict.'), ('director', 'Hayao Miyazaki'), ('producer', 'Toshio Suzuki'), ('release_date', '1997'), ('running_time', '134'), ('rt_score', '92'), ('people', ['https://ghibliapi.herokuapp.com/people/ba924631-068e-4436-b6de-f3283fa848f0', 'https://ghibliapi.herokuapp.com/people/ebe40383-aad2-4208-90ab-698f00c581ab', 'https://ghibliapi.herokuapp.com/people/030555b3-4c92-4fce-93fb-e70c3ae3df8b', 'https://ghibliapi.herokuapp.com/people/ca568e87-4ce2-4afa-a6c5-51f4ae80a60b', 'https://ghibliapi.herokuapp.com/people/e9356bb5-4d4a-4c93-aadc-c83e514bffe3', 'https://ghibliapi.herokuapp.com/people/34277bec-7401-43fa-a00a-5aee64b45b08', 'https://ghibliapi.herokuapp.com/people/91939012-90b9-46e5-a649-96b898073c82', 'https://ghibliapi.herokuapp.com/people/20e3bd33-b35d-41e6-83a4-57ca7f028d38', 'https://ghibliapi.herokuapp.com/people/8bccdc78-545b-49f4-a4c8-756163a38c91', 'https://ghibliapi.herokuapp.com/people/116bfe1b-3ba8-4fa0-8f72-88537a493cb9']), ('species', ['https://ghibliapi.herokuapp.com/species/af3910a6-429f-4c74-9ad5-dfe1c4aa04f2', 'https://ghibliapi.herokuapp.com/species/6bc92fdd-b0f4-4286-ad71-1f99fb4a0d1e', 'https://ghibliapi.herokuapp.com/species/f25fa661-3073-414d-968a-ab062e3065f7']), ('locations', ['https://ghibliapi.herokuapp.com/locations/']), ('vehicles', ['https://ghibliapi.herokuapp.com/vehicles/']), ('url', 'https://ghibliapi.herokuapp.com/films/0440483e-ca0e-4120-8c50-4c8cd9b965d6')]\n",
      "case9:[('id', '45204234-adfd-45cb-a505-a8e7a676b114'), ('title', 'My Neighbors the Yamadas'), ('original_title', 'ホーホケキョ となりの山田くん'), ('original_title_romanised', 'Hōhokekyo tonari no Yamada-kun'), ('description', \"The Yamadas are a typical middle class Japanese family in urban Tokyo and this film shows us a variety of episodes of their lives. With tales that range from the humourous to the heartbreaking, we see this family cope with life's little conflicts, problems and joys in their own way.\"), ('director', 'Isao Takahata'), ('producer', 'Toshio Suzuki'), ('release_date', '1999'), ('running_time', '104'), ('rt_score', '75'), ('people', ['https://ghibliapi.herokuapp.com/people/']), ('species', ['https://ghibliapi.herokuapp.com/species/af3910a6-429f-4c74-9ad5-dfe1c4aa04f2']), ('locations', ['https://ghibliapi.herokuapp.com/locations/']), ('vehicles', ['https://ghibliapi.herokuapp.com/vehicles/']), ('url', 'https://ghibliapi.herokuapp.com/films/45204234-adfd-45cb-a505-a8e7a676b114')]\n"
     ]
    }
   ],
   "source": [
    "for i, case in enumerate(d):\n",
    "    k_v_pairs = [(k, v) for k, v in case.items()]\n",
    "    print(f'case{i}:{k_v_pairs}')"
   ]
  },
  {
   "cell_type": "markdown",
   "metadata": {},
   "source": [
    "I am interested in keys including 'director', 'rt_score' to create the report in this problem. "
   ]
  },
  {
   "cell_type": "code",
   "execution_count": 22,
   "metadata": {},
   "outputs": [
    {
     "data": {
      "text/plain": [
       "{'id': 'dc2e6bd1-8156-4886-adff-b39e6043af0c',\n",
       " 'title': 'Spirited Away',\n",
       " 'original_title': '千と千尋の神隠し',\n",
       " 'original_title_romanised': 'Sen to Chihiro no kamikakushi',\n",
       " 'description': 'Spirited Away is an Oscar winning Japanese animated film about a ten year old girl who wanders away from her parents along a path that leads to a world ruled by strange and unusual monster-like animals. Her parents have been changed into pigs along with others inside a bathhouse full of these creatures. Will she ever see the world how it once was?',\n",
       " 'director': 'Hayao Miyazaki',\n",
       " 'producer': 'Toshio Suzuki',\n",
       " 'release_date': '2001',\n",
       " 'running_time': '124',\n",
       " 'rt_score': '97',\n",
       " 'people': ['https://ghibliapi.herokuapp.com/people/'],\n",
       " 'species': ['https://ghibliapi.herokuapp.com/species/af3910a6-429f-4c74-9ad5-dfe1c4aa04f2'],\n",
       " 'locations': ['https://ghibliapi.herokuapp.com/locations/'],\n",
       " 'vehicles': ['https://ghibliapi.herokuapp.com/vehicles/'],\n",
       " 'url': 'https://ghibliapi.herokuapp.com/films/dc2e6bd1-8156-4886-adff-b39e6043af0c'}"
      ]
     },
     "execution_count": 22,
     "metadata": {},
     "output_type": "execute_result"
    }
   ],
   "source": [
    "link_2 = 'http://linserv1.cims.nyu.edu:10000/films?_page=2'\n",
    "d_2 = requests.get(link_2).json()\n",
    "case_2 = d_2[0]\n",
    "case_2"
   ]
  },
  {
   "cell_type": "markdown",
   "metadata": {},
   "source": [
    "**What happens when I modify the URL**\n",
    "\n",
    "We get different results when trying to increment the last number in the url from 1 to 2. When we modify the url, it brings us to the next page on the web with a new list of film data differen from that on the previous page. "
   ]
  },
  {
   "cell_type": "markdown",
   "metadata": {},
   "source": [
    "**2. Load the data into a DataFrame**\n",
    "\n",
    "Make a request to http://linserv1.cims.nyu.edu:10000/films?_page=1 again, but this time, load the result into a DataFrame\n",
    "Continue collecting additional data and adding to the DataFrame until there is no more data to retrieve"
   ]
  },
  {
   "cell_type": "code",
   "execution_count": 39,
   "metadata": {},
   "outputs": [
    {
     "data": {
      "text/html": [
       "<div>\n",
       "<style scoped>\n",
       "    .dataframe tbody tr th:only-of-type {\n",
       "        vertical-align: middle;\n",
       "    }\n",
       "\n",
       "    .dataframe tbody tr th {\n",
       "        vertical-align: top;\n",
       "    }\n",
       "\n",
       "    .dataframe thead th {\n",
       "        text-align: right;\n",
       "    }\n",
       "</style>\n",
       "<table border=\"1\" class=\"dataframe\">\n",
       "  <thead>\n",
       "    <tr style=\"text-align: right;\">\n",
       "      <th></th>\n",
       "      <th>director</th>\n",
       "      <th>rt_score</th>\n",
       "    </tr>\n",
       "  </thead>\n",
       "  <tbody>\n",
       "    <tr>\n",
       "      <th>0</th>\n",
       "      <td>Hayao Miyazaki</td>\n",
       "      <td>95</td>\n",
       "    </tr>\n",
       "    <tr>\n",
       "      <th>1</th>\n",
       "      <td>Isao Takahata</td>\n",
       "      <td>97</td>\n",
       "    </tr>\n",
       "    <tr>\n",
       "      <th>2</th>\n",
       "      <td>Hayao Miyazaki</td>\n",
       "      <td>93</td>\n",
       "    </tr>\n",
       "    <tr>\n",
       "      <th>3</th>\n",
       "      <td>Hayao Miyazaki</td>\n",
       "      <td>96</td>\n",
       "    </tr>\n",
       "    <tr>\n",
       "      <th>4</th>\n",
       "      <td>Isao Takahata</td>\n",
       "      <td>100</td>\n",
       "    </tr>\n",
       "    <tr>\n",
       "      <th>5</th>\n",
       "      <td>Hayao Miyazaki</td>\n",
       "      <td>94</td>\n",
       "    </tr>\n",
       "    <tr>\n",
       "      <th>6</th>\n",
       "      <td>Isao Takahata</td>\n",
       "      <td>78</td>\n",
       "    </tr>\n",
       "    <tr>\n",
       "      <th>7</th>\n",
       "      <td>Yoshifumi Kondō</td>\n",
       "      <td>91</td>\n",
       "    </tr>\n",
       "    <tr>\n",
       "      <th>8</th>\n",
       "      <td>Hayao Miyazaki</td>\n",
       "      <td>92</td>\n",
       "    </tr>\n",
       "    <tr>\n",
       "      <th>9</th>\n",
       "      <td>Isao Takahata</td>\n",
       "      <td>75</td>\n",
       "    </tr>\n",
       "    <tr>\n",
       "      <th>10</th>\n",
       "      <td>Hayao Miyazaki</td>\n",
       "      <td>97</td>\n",
       "    </tr>\n",
       "    <tr>\n",
       "      <th>11</th>\n",
       "      <td>Hiroyuki Morita</td>\n",
       "      <td>89</td>\n",
       "    </tr>\n",
       "    <tr>\n",
       "      <th>12</th>\n",
       "      <td>Hayao Miyazaki</td>\n",
       "      <td>87</td>\n",
       "    </tr>\n",
       "    <tr>\n",
       "      <th>13</th>\n",
       "      <td>Gorō Miyazaki</td>\n",
       "      <td>41</td>\n",
       "    </tr>\n",
       "    <tr>\n",
       "      <th>14</th>\n",
       "      <td>Hayao Miyazaki</td>\n",
       "      <td>92</td>\n",
       "    </tr>\n",
       "    <tr>\n",
       "      <th>15</th>\n",
       "      <td>Hiromasa Yonebayashi</td>\n",
       "      <td>95</td>\n",
       "    </tr>\n",
       "    <tr>\n",
       "      <th>16</th>\n",
       "      <td>Gorō Miyazaki</td>\n",
       "      <td>83</td>\n",
       "    </tr>\n",
       "    <tr>\n",
       "      <th>17</th>\n",
       "      <td>Hayao Miyazaki</td>\n",
       "      <td>89</td>\n",
       "    </tr>\n",
       "    <tr>\n",
       "      <th>18</th>\n",
       "      <td>Isao Takahata</td>\n",
       "      <td>100</td>\n",
       "    </tr>\n",
       "    <tr>\n",
       "      <th>19</th>\n",
       "      <td>Hiromasa Yonebayashi</td>\n",
       "      <td>92</td>\n",
       "    </tr>\n",
       "    <tr>\n",
       "      <th>20</th>\n",
       "      <td>Michaël Dudok de Wit</td>\n",
       "      <td>93</td>\n",
       "    </tr>\n",
       "  </tbody>\n",
       "</table>\n",
       "</div>"
      ],
      "text/plain": [
       "                director  rt_score\n",
       "0         Hayao Miyazaki        95\n",
       "1          Isao Takahata        97\n",
       "2         Hayao Miyazaki        93\n",
       "3         Hayao Miyazaki        96\n",
       "4          Isao Takahata       100\n",
       "5         Hayao Miyazaki        94\n",
       "6          Isao Takahata        78\n",
       "7        Yoshifumi Kondō        91\n",
       "8         Hayao Miyazaki        92\n",
       "9          Isao Takahata        75\n",
       "10        Hayao Miyazaki        97\n",
       "11       Hiroyuki Morita        89\n",
       "12        Hayao Miyazaki        87\n",
       "13         Gorō Miyazaki        41\n",
       "14        Hayao Miyazaki        92\n",
       "15  Hiromasa Yonebayashi        95\n",
       "16         Gorō Miyazaki        83\n",
       "17        Hayao Miyazaki        89\n",
       "18         Isao Takahata       100\n",
       "19  Hiromasa Yonebayashi        92\n",
       "20  Michaël Dudok de Wit        93"
      ]
     },
     "execution_count": 39,
     "metadata": {},
     "output_type": "execute_result"
    }
   ],
   "source": [
    "i = 1\n",
    "director_and_score = []\n",
    "while True:\n",
    "\n",
    "    link = f'http://linserv1.cims.nyu.edu:10000/films?_page={i}'\n",
    "    d = requests.get(link).json()\n",
    "    if d==[]:\n",
    "        break\n",
    "    for film in d:\n",
    "        director_and_score.append([film['director'], int(film['rt_score'])])\n",
    "    i +=1\n",
    "\n",
    "director_score_df = pd.DataFrame(director_and_score, columns = ['director', 'rt_score'])\n",
    "director_score_df "
   ]
  },
  {
   "cell_type": "markdown",
   "metadata": {},
   "source": [
    "**3. Report**\n",
    "\n",
    "Create a report that shows:\n",
    "\n",
    "- the directors' names as the index (Note that the index.name can be set to get what appears to be a title for the index)\n",
    "- the average rotten tomatoes score (review aggregator website)\n",
    "- the number of films directed\n",
    "- concat and groupby may be helpful"
   ]
  },
  {
   "cell_type": "code",
   "execution_count": 53,
   "metadata": {},
   "outputs": [
    {
     "data": {
      "text/html": [
       "<div>\n",
       "<style scoped>\n",
       "    .dataframe tbody tr th:only-of-type {\n",
       "        vertical-align: middle;\n",
       "    }\n",
       "\n",
       "    .dataframe tbody tr th {\n",
       "        vertical-align: top;\n",
       "    }\n",
       "\n",
       "    .dataframe thead th {\n",
       "        text-align: right;\n",
       "    }\n",
       "</style>\n",
       "<table border=\"1\" class=\"dataframe\">\n",
       "  <thead>\n",
       "    <tr style=\"text-align: right;\">\n",
       "      <th></th>\n",
       "      <th>mean</th>\n",
       "      <th>count</th>\n",
       "    </tr>\n",
       "    <tr>\n",
       "      <th>director</th>\n",
       "      <th></th>\n",
       "      <th></th>\n",
       "    </tr>\n",
       "  </thead>\n",
       "  <tbody>\n",
       "    <tr>\n",
       "      <th>Hiromasa Yonebayashi</th>\n",
       "      <td>93.500000</td>\n",
       "      <td>2</td>\n",
       "    </tr>\n",
       "    <tr>\n",
       "      <th>Michaël Dudok de Wit</th>\n",
       "      <td>93.000000</td>\n",
       "      <td>1</td>\n",
       "    </tr>\n",
       "    <tr>\n",
       "      <th>Hayao Miyazaki</th>\n",
       "      <td>92.777778</td>\n",
       "      <td>9</td>\n",
       "    </tr>\n",
       "    <tr>\n",
       "      <th>Yoshifumi Kondō</th>\n",
       "      <td>91.000000</td>\n",
       "      <td>1</td>\n",
       "    </tr>\n",
       "    <tr>\n",
       "      <th>Isao Takahata</th>\n",
       "      <td>90.000000</td>\n",
       "      <td>5</td>\n",
       "    </tr>\n",
       "    <tr>\n",
       "      <th>Hiroyuki Morita</th>\n",
       "      <td>89.000000</td>\n",
       "      <td>1</td>\n",
       "    </tr>\n",
       "    <tr>\n",
       "      <th>Gorō Miyazaki</th>\n",
       "      <td>62.000000</td>\n",
       "      <td>2</td>\n",
       "    </tr>\n",
       "  </tbody>\n",
       "</table>\n",
       "</div>"
      ],
      "text/plain": [
       "                           mean  count\n",
       "director                              \n",
       "Hiromasa Yonebayashi  93.500000      2\n",
       "Michaël Dudok de Wit  93.000000      1\n",
       "Hayao Miyazaki        92.777778      9\n",
       "Yoshifumi Kondō       91.000000      1\n",
       "Isao Takahata         90.000000      5\n",
       "Hiroyuki Morita       89.000000      1\n",
       "Gorō Miyazaki         62.000000      2"
      ]
     },
     "execution_count": 53,
     "metadata": {},
     "output_type": "execute_result"
    }
   ],
   "source": [
    "ret = director_score_df.groupby('director').agg(['mean', 'count'])\n",
    "ret.columns = ret.columns.droplevel()\n",
    "ret.sort_values(by = 'mean', ascending = False, inplace = True)\n",
    "ret"
   ]
  }
 ],
 "metadata": {
  "kernelspec": {
   "display_name": "Python 3.8.13 ('dma')",
   "language": "python",
   "name": "python3"
  },
  "language_info": {
   "codemirror_mode": {
    "name": "ipython",
    "version": 3
   },
   "file_extension": ".py",
   "mimetype": "text/x-python",
   "name": "python",
   "nbconvert_exporter": "python",
   "pygments_lexer": "ipython3",
   "version": "3.8.13"
  },
  "vscode": {
   "interpreter": {
    "hash": "b6204de1d4fffdd0a95a5252b294d48853947524adf31509e55ec91f12fd0374"
   }
  }
 },
 "nbformat": 4,
 "nbformat_minor": 4
}
