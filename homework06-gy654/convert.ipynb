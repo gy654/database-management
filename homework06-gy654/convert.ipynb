{
 "cells": [
  {
   "cell_type": "code",
   "execution_count": 11,
   "metadata": {},
   "outputs": [],
   "source": [
    "import pandas as pd\n",
    "file_path = 'accident.csv'\n",
    "accident = pd.read_csv(file_path)\n",
    "accident.columns = accident.columns.str.lower().str.replace(' ', '_')\n",
    "accident.to_csv(file_path, index = False)\n"
   ]
  },
  {
   "cell_type": "code",
   "execution_count": 27,
   "metadata": {},
   "outputs": [
    {
     "data": {
      "text/plain": [
       "Index(['crash_date', 'crash_time', 'borough', 'zip_code', 'latitude',\n",
       "       'longitude', 'location', 'on_street_name', 'cross_street_name',\n",
       "       'off_street_name', 'number_of_persons_injured',\n",
       "       'number_of_persons_killed', 'number_of_pedestrians_injured',\n",
       "       'number_of_pedestrians_killed', 'number_of_cyclist_injured',\n",
       "       'number_of_cyclist_killed', 'number_of_motorist_injured',\n",
       "       'number_of_motorist_killed', 'contributing_factor_vehicle_1',\n",
       "       'contributing_factor_vehicle_2', 'contributing_factor_vehicle_3',\n",
       "       'contributing_factor_vehicle_4', 'contributing_factor_vehicle_5',\n",
       "       'collision_id', 'vehicle_type_code_1', 'vehicle_type_code_2',\n",
       "       'vehicle_type_code_3', 'vehicle_type_code_4', 'vehicle_type_code_5'],\n",
       "      dtype='object')"
      ]
     },
     "execution_count": 27,
     "metadata": {},
     "output_type": "execute_result"
    }
   ],
   "source": [
    "accident.columns"
   ]
  },
  {
   "cell_type": "code",
   "execution_count": 28,
   "metadata": {},
   "outputs": [
    {
     "name": "stdout",
     "output_type": "stream",
     "text": [
      "crash_date 74639\n",
      "crash_time 73441\n",
      "borough 74875\n",
      "zip_code 74682\n",
      "latitude 45774\n",
      "longitude 51328\n",
      "location 38131\n",
      "on_street_name 70871\n",
      "cross_street_name 70475\n",
      "off_street_name 57429\n",
      "number_of_persons_injured 74869\n",
      "number_of_persons_killed 74876\n",
      "number_of_pedestrians_injured 74875\n",
      "number_of_pedestrians_killed 74879\n",
      "number_of_cyclist_injured 74877\n",
      "number_of_cyclist_killed 74879\n",
      "number_of_motorist_injured 74869\n",
      "number_of_motorist_killed 74876\n",
      "contributing_factor_vehicle_1 74825\n",
      "contributing_factor_vehicle_2 74835\n",
      "contributing_factor_vehicle_3 74851\n",
      "contributing_factor_vehicle_4 74868\n",
      "contributing_factor_vehicle_5 74874\n",
      "collision_id 0\n",
      "vehicle_type_code_1 74608\n",
      "vehicle_type_code_2 74590\n",
      "vehicle_type_code_3 74831\n",
      "vehicle_type_code_4 74854\n",
      "vehicle_type_code_5 74864\n"
     ]
    }
   ],
   "source": [
    "for col in accident.columns:\n",
    "    print(col, accident.duplicated(subset=[col]).sum())"
   ]
  }
 ],
 "metadata": {
  "kernelspec": {
   "display_name": "Python 3.8.13 ('dma')",
   "language": "python",
   "name": "python3"
  },
  "language_info": {
   "codemirror_mode": {
    "name": "ipython",
    "version": 3
   },
   "file_extension": ".py",
   "mimetype": "text/x-python",
   "name": "python",
   "nbconvert_exporter": "python",
   "pygments_lexer": "ipython3",
   "version": "3.8.13 (default, Oct 19 2022, 17:54:22) \n[Clang 12.0.0 ]"
  },
  "orig_nbformat": 4,
  "vscode": {
   "interpreter": {
    "hash": "b6204de1d4fffdd0a95a5252b294d48853947524adf31509e55ec91f12fd0374"
   }
  }
 },
 "nbformat": 4,
 "nbformat_minor": 2
}
